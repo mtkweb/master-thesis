{
 "cells": [
  {
   "cell_type": "code",
   "execution_count": 34,
   "metadata": {
    "collapsed": true
   },
   "outputs": [],
   "source": [
    "import torch\n",
    "import librosa\n",
    "from transformers import Wav2Vec2ForCTC, Wav2Vec2Processor, Wav2Vec2Config\n",
    "import seaborn as sns"
   ]
  },
  {
   "cell_type": "code",
   "execution_count": 35,
   "outputs": [],
   "source": [
    "SEGMENTS_DIR = 'segments'\n",
    "#WORDS = ['0-nan', '1-nam', '2-nin', '3-nim', '5-man', '6-mam', '7-min', '8-mim']\n",
    "#WORDS = ['0-nan', '1-nam']\n",
    "WORDS = ['6-mam', '8-mim']"
   ],
   "metadata": {
    "collapsed": false
   }
  },
  {
   "cell_type": "code",
   "execution_count": 36,
   "outputs": [],
   "source": [
    "LANG_ID = \"en\"\n",
    "MODEL_ID = \"facebook/wav2vec2-base-960h\"\n",
    "#MODEL_ID = \"jonatasgrosman/wav2vec2-xls-r-1b-dutch\"\n",
    "SAMPLES = 10\n",
    "SAMPLE_RATE = 16_000"
   ],
   "metadata": {
    "collapsed": false
   }
  },
  {
   "cell_type": "code",
   "execution_count": 37,
   "outputs": [],
   "source": [
    "configuration = Wav2Vec2Config(hidden_act='relu')"
   ],
   "metadata": {
    "collapsed": false
   }
  },
  {
   "cell_type": "code",
   "execution_count": 38,
   "outputs": [
    {
     "name": "stderr",
     "output_type": "stream",
     "text": [
      "Some weights of Wav2Vec2ForCTC were not initialized from the model checkpoint at facebook/wav2vec2-base-960h and are newly initialized: ['wav2vec2.masked_spec_embed']\n",
      "You should probably TRAIN this model on a down-stream task to be able to use it for predictions and inference.\n"
     ]
    }
   ],
   "source": [
    "processor = Wav2Vec2Processor.from_pretrained(MODEL_ID)\n",
    "model = Wav2Vec2ForCTC.from_pretrained(MODEL_ID)"
   ],
   "metadata": {
    "collapsed": false
   }
  },
  {
   "cell_type": "code",
   "execution_count": 39,
   "outputs": [
    {
     "data": {
      "text/plain": "'gelu'"
     },
     "execution_count": 39,
     "metadata": {},
     "output_type": "execute_result"
    }
   ],
   "source": [
    "#model.config.hidden_act = 'selu'\n",
    "model.config.hidden_act"
   ],
   "metadata": {
    "collapsed": false
   }
  },
  {
   "cell_type": "code",
   "execution_count": 40,
   "outputs": [],
   "source": [
    "# Preprocessing the datasets.\n",
    "# We need to read the audio files as arrays\n",
    "def speech_file_to_array_fn(file_name):\n",
    "    file = f'{SEGMENTS_DIR}/{file_name}.wav'\n",
    "    speech_array, sampling_rate = librosa.load(file, sr=SAMPLE_RATE)\n",
    "    return speech_array\n",
    "\n",
    "dataset = [speech_file_to_array_fn(word) for word in WORDS]"
   ],
   "metadata": {
    "collapsed": false
   }
  },
  {
   "cell_type": "code",
   "execution_count": 41,
   "outputs": [],
   "source": [
    "inputs = processor(dataset, sampling_rate=SAMPLE_RATE, return_tensors=\"pt\", padding=\"longest\")"
   ],
   "metadata": {
    "collapsed": false
   }
  },
  {
   "cell_type": "code",
   "execution_count": 42,
   "outputs": [],
   "source": [
    "with torch.no_grad():\n",
    "    model_output = model(inputs.input_values, output_hidden_states=True)\n",
    "    logits = model_output.logits\n",
    "\n",
    "predicted_ids = torch.argmax(logits, dim=-1)\n",
    "predicted_sentences = processor.batch_decode(predicted_ids)"
   ],
   "metadata": {
    "collapsed": false
   }
  },
  {
   "cell_type": "code",
   "execution_count": 43,
   "outputs": [
    {
     "data": {
      "text/plain": "tensor([[[ 10.8212, -22.9335, -22.6785,  ...,  -6.0389,  -5.8772,  -7.0412],\n         [ 10.7876, -22.3097, -22.0948,  ...,  -5.6721,  -6.0926,  -6.0027],\n         [ 10.8281, -22.5992, -22.4140,  ...,  -5.4493,  -6.4519,  -6.0362],\n         ...,\n         [  9.8969, -21.0155, -20.7547,  ...,  -4.8412,  -5.2581,  -5.6918],\n         [  9.8718, -20.9584, -20.6982,  ...,  -4.8007,  -5.2350,  -5.6333],\n         [  9.8706, -20.9583, -20.6981,  ...,  -4.8010,  -5.2348,  -5.6340]],\n\n        [[ 12.8399, -25.0194, -24.6724,  ...,  -4.7942,  -5.7050,  -6.2245],\n         [ 12.9019, -24.8537, -24.5029,  ...,  -4.9367,  -5.8561,  -5.8690],\n         [ 12.7219, -24.5549, -24.2079,  ...,  -5.0664,  -5.8206,  -5.4868],\n         ...,\n         [ 12.0825, -23.0422, -22.7292,  ...,  -3.7806,  -4.8652,  -5.5119],\n         [ 12.0990, -23.0343, -22.7220,  ...,  -3.7757,  -4.8610,  -5.5177],\n         [ 12.2747, -24.2666, -23.9405,  ...,  -4.6835,  -5.2649,  -6.1115]]])"
     },
     "execution_count": 43,
     "metadata": {},
     "output_type": "execute_result"
    }
   ],
   "source": [
    "logits"
   ],
   "metadata": {
    "collapsed": false
   }
  },
  {
   "cell_type": "code",
   "execution_count": 44,
   "outputs": [
    {
     "data": {
      "text/plain": "['MUM', 'MIM']"
     },
     "execution_count": 44,
     "metadata": {},
     "output_type": "execute_result"
    }
   ],
   "source": [
    "predicted_sentences"
   ],
   "metadata": {
    "collapsed": false
   }
  },
  {
   "cell_type": "code",
   "execution_count": 45,
   "outputs": [
    {
     "data": {
      "text/plain": "13"
     },
     "execution_count": 45,
     "metadata": {},
     "output_type": "execute_result"
    }
   ],
   "source": [
    "model_output.hidden_states.__len__()"
   ],
   "metadata": {
    "collapsed": false
   }
  },
  {
   "cell_type": "code",
   "execution_count": 46,
   "outputs": [
    {
     "data": {
      "text/plain": "torch.Size([2, 34, 768])"
     },
     "execution_count": 46,
     "metadata": {},
     "output_type": "execute_result"
    }
   ],
   "source": [
    "model_output.hidden_states[0].shape"
   ],
   "metadata": {
    "collapsed": false
   }
  },
  {
   "cell_type": "code",
   "execution_count": 65,
   "outputs": [
    {
     "data": {
      "text/plain": "torch.Size([34, 768])"
     },
     "execution_count": 65,
     "metadata": {},
     "output_type": "execute_result"
    }
   ],
   "source": [
    "layer_sequence = model_output.hidden_states[12]\n",
    "layer_sequence[0].shape"
   ],
   "metadata": {
    "collapsed": false
   }
  },
  {
   "cell_type": "code",
   "execution_count": 66,
   "outputs": [
    {
     "data": {
      "text/plain": "tensor([0.9252, 0.9135, 0.8997, 0.8183, 0.4924, 0.7777, 0.3719, 0.7147, 0.5869,\n        0.6967, 0.6257, 0.2132, 0.4461, 0.6804, 0.5742, 0.7645, 0.6542, 0.2484,\n        0.7221, 0.3563, 0.4486, 0.8048, 0.8986, 0.9424, 0.9328, 0.9433, 0.9344,\n        0.9374, 0.9341, 0.9218, 0.9346, 0.9345, 0.9342, 0.9142])"
     },
     "execution_count": 66,
     "metadata": {},
     "output_type": "execute_result"
    }
   ],
   "source": [
    "similarities = torch.cosine_similarity(layer_sequence[0], layer_sequence[1], dim=1)\n",
    "similarities"
   ],
   "metadata": {
    "collapsed": false
   }
  },
  {
   "cell_type": "code",
   "execution_count": 67,
   "outputs": [
    {
     "data": {
      "text/plain": "<Axes: >"
     },
     "execution_count": 67,
     "metadata": {},
     "output_type": "execute_result"
    },
    {
     "data": {
      "text/plain": "<Figure size 640x480 with 1 Axes>",
      "image/png": "[encoded data removed]"
     },
     "metadata": {},
     "output_type": "display_data"
    }
   ],
   "source": [
    "sns.lineplot(x=range(similarities.shape[0]), y=similarities)"
   ],
   "metadata": {
    "collapsed": false
   }
  },
  {
   "cell_type": "code",
   "execution_count": 68,
   "outputs": [
    {
     "data": {
      "text/plain": "tensor([[0.9252, 0.9359, 0.9422,  ..., 0.8990, 0.8989, 0.9214],\n        [0.8952, 0.9135, 0.9296,  ..., 0.8806, 0.8807, 0.8946],\n        [0.8542, 0.8768, 0.8997,  ..., 0.8468, 0.8470, 0.8546],\n        ...,\n        [0.9079, 0.9165, 0.9224,  ..., 0.9345, 0.9348, 0.9166],\n        [0.9054, 0.9141, 0.9202,  ..., 0.9339, 0.9342, 0.9141],\n        [0.9055, 0.9141, 0.9203,  ..., 0.9339, 0.9342, 0.9142]])"
     },
     "execution_count": 68,
     "metadata": {},
     "output_type": "execute_result"
    }
   ],
   "source": [
    "def calculate_all_similarities(sequence_a, sequence_b):\n",
    "    similarities_2darray = torch.zeros((sequence_a.shape[0], sequence_b.shape[0]))\n",
    "    for i in range(sequence_a.shape[0]):\n",
    "        for j in range(sequence_b.shape[0]):\n",
    "            similarities_2darray[i][j] = torch.cosine_similarity(sequence_a[i], sequence_b[j], dim=0)\n",
    "    return similarities_2darray\n",
    "\n",
    "similarities = calculate_all_similarities(layer_sequence[0], layer_sequence[1])\n",
    "similarities"
   ],
   "metadata": {
    "collapsed": false
   }
  },
  {
   "cell_type": "code",
   "execution_count": 69,
   "outputs": [
    {
     "data": {
      "text/plain": "<Axes: >"
     },
     "execution_count": 69,
     "metadata": {},
     "output_type": "execute_result"
    },
    {
     "data": {
      "text/plain": "<Figure size 640x480 with 2 Axes>",
      "image/png": "[encoded data removed]"
     },
     "metadata": {},
     "output_type": "display_data"
    }
   ],
   "source": [
    "\n",
    "sns.heatmap(similarities)"
   ],
   "metadata": {
    "collapsed": false
   }
  },
  {
   "cell_type": "code",
   "execution_count": 52,
   "outputs": [
    {
     "data": {
      "text/plain": "torch.Size([34, 34])"
     },
     "execution_count": 52,
     "metadata": {},
     "output_type": "execute_result"
    }
   ],
   "source": [
    "similarities.shape\n"
   ],
   "metadata": {
    "collapsed": false
   }
  },
  {
   "cell_type": "code",
   "execution_count": 53,
   "outputs": [
    {
     "data": {
      "text/plain": "tensor(0.6617)"
     },
     "execution_count": 53,
     "metadata": {},
     "output_type": "execute_result"
    }
   ],
   "source": [
    "similarities[0][1]\n"
   ],
   "metadata": {
    "collapsed": false
   }
  },
  {
   "cell_type": "code",
   "execution_count": 54,
   "outputs": [
    {
     "ename": "SyntaxError",
     "evalue": "incomplete input (4131718595.py, line 1)",
     "output_type": "error",
     "traceback": [
      "\u001B[0;36m  Cell \u001B[0;32mIn[54], line 1\u001B[0;36m\u001B[0m\n\u001B[0;31m    def viterbi_algorithm(similarity_matrix):\u001B[0m\n\u001B[0m                                             ^\u001B[0m\n\u001B[0;31mSyntaxError\u001B[0m\u001B[0;31m:\u001B[0m incomplete input\n"
     ]
    }
   ],
   "source": [
    "def viterbi_algorithm(similarity_matrix):"
   ],
   "metadata": {
    "collapsed": false
   }
  },
  {
   "cell_type": "code",
   "execution_count": null,
   "outputs": [],
   "source": [
    "def viterbi(probabilities):\n",
    "    # Initialize the viterbi matrix\n",
    "    viterbi = torch.zeros(probabilities.shape)\n",
    "    # Initialize the backpointer matrix\n",
    "    backpointer = torch.zeros(probabilities.shape, dtype=torch.long)\n",
    "    # Initialize the first column of the viterbi matrix\n",
    "    viterbi[0] = probabilities[0]\n",
    "    # Initialize the first column of the backpointer matrix\n",
    "    backpointer[0] = torch.zeros(probabilities.shape[1], dtype=torch.long)\n",
    "    # Iterate over the columns of the viterbi matrix\n",
    "    for t in range(1, probabilities.shape[0]):\n",
    "        # Iterate over the rows of the viterbi matrix\n",
    "        for s in range(probabilities.shape[1]):\n",
    "            # Calculate the viterbi score for the current state\n",
    "            viterbi[t][s] = probabilities[t][s] + torch.max(viterbi[t-1])\n",
    "            # Calculate the backpointer for the current state\n",
    "            backpointer[t][s] = torch.argmax(viterbi[t-1])\n",
    "    # Initialize the best path with a tensor of zeros\n",
    "    best_path = torch.zeros(probabilities.shape[0], dtype=torch.long)\n",
    "    # Initialize the best path probability\n",
    "    best_path_prob = torch.max(viterbi[-1])\n",
    "    # Set the initial state of the best path\n",
    "    best_path[-1] = torch.argmax(viterbi[-1])\n",
    "    # Iterate over the backpointer matrix\n",
    "    for t in range(backpointer.shape[0]-2, -1, -1):\n",
    "        # Set the current state of the best path\n",
    "        best_path[t] = backpointer[t+1][best_path[t+1]]\n",
    "    return best_path, best_path_prob"
   ],
   "metadata": {
    "collapsed": false
   }
  },
  {
   "cell_type": "code",
   "execution_count": null,
   "outputs": [],
   "source": [
    "viterbi((similarities[:24][:24]).T)"
   ],
   "metadata": {
    "collapsed": false
   }
  },
  {
   "cell_type": "code",
   "execution_count": null,
   "outputs": [],
   "source": [
    "\n"
   ],
   "metadata": {
    "collapsed": false
   }
  },
  {
   "cell_type": "code",
   "execution_count": null,
   "outputs": [],
   "source": [],
   "metadata": {
    "collapsed": false
   }
  }
 ],
 "metadata": {
  "kernelspec": {
   "display_name": "Python 3",
   "language": "python",
   "name": "python3"
  },
  "language_info": {
   "codemirror_mode": {
    "name": "ipython",
    "version": 2
   },
   "file_extension": ".py",
   "mimetype": "text/x-python",
   "name": "python",
   "nbconvert_exporter": "python",
   "pygments_lexer": "ipython2",
   "version": "2.7.6"
  }
 },
 "nbformat": 4,
 "nbformat_minor": 0
}
