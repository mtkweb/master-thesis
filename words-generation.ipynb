{
 "cells": [
  {
   "cell_type": "code",
   "execution_count": 89,
   "outputs": [],
   "source": [
    "from typing import List\n",
    "import math\n",
    "import random"
   ],
   "metadata": {
    "collapsed": false
   }
  },
  {
   "cell_type": "code",
   "execution_count": 90,
   "metadata": {
    "collapsed": true
   },
   "outputs": [],
   "source": [
    "CONSONANTS = ['n', 'm'] # p, t, k, (b), (d), (goul), m, n, (ng), s, f, (z), (v)\n",
    "\n",
    "# NIET: l, r, j, w, h\n",
    "VOWELS = ['a', 'i'] # a, e, i, o ,u"
   ]
  },
  {
   "cell_type": "code",
   "execution_count": 91,
   "outputs": [],
   "source": [
    "NUMBER_OF_REPETITIONS = 1\n",
    "WORDS_PER_GROUP = 4 # Each fifth word should be chosen such that it can be ignored later"
   ],
   "metadata": {
    "collapsed": false
   }
  },
  {
   "cell_type": "code",
   "execution_count": 92,
   "outputs": [],
   "source": [
    "words: List[str] = []\n",
    "for first_consonant in CONSONANTS:\n",
    "    for vowel in VOWELS:\n",
    "        for second_consonant in CONSONANTS:\n",
    "            words.append(f'{first_consonant}{vowel}{second_consonant}')"
   ],
   "metadata": {
    "collapsed": false
   }
  },
  {
   "cell_type": "code",
   "execution_count": 93,
   "outputs": [
    {
     "data": {
      "text/plain": "2"
     },
     "execution_count": 93,
     "metadata": {},
     "output_type": "execute_result"
    }
   ],
   "source": [
    "number_of_words = words.__len__()\n",
    "number_of_groups = math.ceil(1.0 * number_of_words * NUMBER_OF_REPETITIONS / WORDS_PER_GROUP)\n",
    "\n",
    "number_of_groups"
   ],
   "metadata": {
    "collapsed": false
   }
  },
  {
   "cell_type": "markdown",
   "source": [
    "* a word should be unique within its group\n",
    "* the fifth word in a group doesn't count\n",
    "* the order of words must be random"
   ],
   "metadata": {
    "collapsed": false
   }
  },
  {
   "cell_type": "code",
   "execution_count": 94,
   "outputs": [],
   "source": [
    "groups: List[str] = []\n",
    "new_group: List[str] = []\n",
    "for word in words:\n",
    "    new_group.append(word)\n",
    "    if new_group.__len__() == WORDS_PER_GROUP:\n",
    "        new_group.append(words[random.randint(0, number_of_words -1)])\n",
    "        groups.append(new_group)\n",
    "        new_group = []\n",
    "\n",
    "\n",
    "\n"
   ],
   "metadata": {
    "collapsed": false
   }
  },
  {
   "cell_type": "code",
   "execution_count": 95,
   "outputs": [
    {
     "data": {
      "text/plain": "[['nan', 'nam', 'nin', 'nim', 'nin'], ['man', 'mam', 'min', 'mim', 'mim']]"
     },
     "execution_count": 95,
     "metadata": {},
     "output_type": "execute_result"
    }
   ],
   "source": [
    "groups\n"
   ],
   "metadata": {
    "collapsed": false
   }
  },
  {
   "cell_type": "code",
   "execution_count": null,
   "outputs": [],
   "source": [],
   "metadata": {
    "collapsed": false
   }
  }
 ],
 "metadata": {
  "kernelspec": {
   "display_name": "Python 3",
   "language": "python",
   "name": "python3"
  },
  "language_info": {
   "codemirror_mode": {
    "name": "ipython",
    "version": 2
   },
   "file_extension": ".py",
   "mimetype": "text/x-python",
   "name": "python",
   "nbconvert_exporter": "python",
   "pygments_lexer": "ipython2",
   "version": "2.7.6"
  }
 },
 "nbformat": 4,
 "nbformat_minor": 0
}
