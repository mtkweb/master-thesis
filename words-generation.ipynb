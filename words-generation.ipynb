{
 "cells": [
  {
   "cell_type": "code",
   "execution_count": 17,
   "outputs": [],
   "source": [
    "from typing import List, Tuple\n",
    "import random"
   ],
   "metadata": {
    "collapsed": false
   }
  },
  {
   "cell_type": "code",
   "execution_count": 18,
   "outputs": [],
   "source": [
    "RANDOM_SEED = 73685"
   ],
   "metadata": {
    "collapsed": false
   }
  },
  {
   "cell_type": "code",
   "execution_count": 19,
   "metadata": {
    "collapsed": true
   },
   "outputs": [],
   "source": [
    "CONSONANTS = ['f', 'k', 'm', 'n', 'p', 's', 't']\n",
    "VOWELS = ['a', 'e', 'i', 'o', 'u']"
   ]
  },
  {
   "cell_type": "code",
   "execution_count": 20,
   "outputs": [],
   "source": [
    "NUMBER_OF_REPETITIONS = 4\n",
    "WORDS_PER_GROUP = 4\n",
    "REDUNDANT_WORDS_PER_GROUP = 1 # Each fifth word should be chosen such that it can be ignored later"
   ],
   "metadata": {
    "collapsed": false
   }
  },
  {
   "cell_type": "code",
   "execution_count": 21,
   "outputs": [],
   "source": [
    "def generate_unique_words() -> List[str]:\n",
    "    words: List[str] = []\n",
    "    for first_consonant in CONSONANTS:\n",
    "        for vowel in VOWELS:\n",
    "            for second_consonant in CONSONANTS:\n",
    "                words.append(f'{first_consonant}{vowel}{second_consonant}')\n",
    "    return words"
   ],
   "metadata": {
    "collapsed": false
   }
  },
  {
   "cell_type": "code",
   "execution_count": 22,
   "outputs": [],
   "source": [
    "def sort_randomly(words: List[str]) -> List[str]:\n",
    "    random.seed(RANDOM_SEED)\n",
    "    random.shuffle(words)\n",
    "    return words"
   ],
   "metadata": {
    "collapsed": false
   }
  },
  {
   "cell_type": "code",
   "execution_count": 23,
   "outputs": [],
   "source": [
    "def generate_all_words(repetitions: int, words_fn, sort_fn) -> List[str]:\n",
    "    all_words: List[str] = []\n",
    "    for i in range(repetitions):\n",
    "        words = words_fn()\n",
    "        words = sort_fn(words)\n",
    "        all_words.extend(words)\n",
    "    return all_words"
   ],
   "metadata": {
    "collapsed": false
   }
  },
  {
   "cell_type": "code",
   "execution_count": 24,
   "outputs": [
    {
     "data": {
      "text/plain": "['sof',\n 'nuk',\n 'fon',\n 'mim',\n 'pom',\n 'kom',\n 'mep',\n 'kip',\n 'fot',\n 'paf',\n 'kaf',\n 'tok',\n 'fis',\n 'pam',\n 'kak',\n 'nef',\n 'kek',\n 'sos',\n 'maf',\n 'pan',\n 'fup',\n 'set',\n 'nit',\n 'fit',\n 'kik',\n 'fak',\n 'kep',\n 'tas',\n 'mas',\n 'mop',\n 'mun',\n 'sot',\n 'kut',\n 'nus',\n 'tup',\n 'nas',\n 'sif',\n 'saf',\n 'nos',\n 'fip',\n 'pup',\n 'sap',\n 'pus',\n 'nop',\n 'sop',\n 'tum',\n 'mat',\n 'kem',\n 'pif',\n 'mek',\n 'tik',\n 'mof',\n 'pat',\n 'sik',\n 'muf',\n 'kus',\n 'tuk',\n 'fus',\n 'kes',\n 'pep',\n 'sum',\n 'mik',\n 'tet',\n 'met',\n 'nen',\n 'sek',\n 'tot',\n 'sep',\n 'faf',\n 'fas',\n 'nek',\n 'tam',\n 'sim',\n 'nes',\n 'sup',\n 'tus',\n 'puk',\n 'sun',\n 'fap',\n 'kun',\n 'kok',\n 'ken',\n 'ket',\n 'fef',\n 'fop',\n 'som',\n 'tuf',\n 'muk',\n 'kat',\n 'nak',\n 'sis',\n 'tim',\n 'pip',\n 'tom',\n 'pok',\n 'nam',\n 'mip',\n 'nan',\n 'pun',\n 'tos',\n 'mef',\n 'mes',\n 'sin',\n 'men',\n 'sak',\n 'sen',\n 'nuf',\n 'tun',\n 'kot',\n 'pet',\n 'tut',\n 'tak',\n 'mit',\n 'non',\n 'mut',\n 'map',\n 'tip',\n 'pit',\n 'mem',\n 'fin',\n 'pos',\n 'kim',\n 'pik',\n 'sok',\n 'kis',\n 'naf',\n 'sit',\n 'nat',\n 'fep',\n 'mam',\n 'pis',\n 'pim',\n 'puf',\n 'fuf',\n 'kin',\n 'fan',\n 'fik',\n 'ten',\n 'fif',\n 'mos',\n 'nof',\n 'fim',\n 'pot',\n 'ton',\n 'tan',\n 'mak',\n 'suk',\n 'sat',\n 'tep',\n 'sus',\n 'kuk',\n 'tap',\n 'pak',\n 'fos',\n 'nis',\n 'san',\n 'kum',\n 'nap',\n 'tis',\n 'mok',\n 'fok',\n 'fof',\n 'pap',\n 'tin',\n 'put',\n 'taf',\n 'fun',\n 'sas',\n 'fen',\n 'mon',\n 'fet',\n 'mis',\n 'kos',\n 'kof',\n 'sam',\n 'sem',\n 'nik',\n 'mum',\n 'ses',\n 'son',\n 'pop',\n 'pen',\n 'tef',\n 'mus',\n 'mom',\n 'pef',\n 'not',\n 'fem',\n 'fam',\n 'nim',\n 'nun',\n 'pon',\n 'tes',\n 'top',\n 'nip',\n 'pem',\n 'nut',\n 'fek',\n 'sip',\n 'kuf',\n 'num',\n 'kit',\n 'tek',\n 'nem',\n 'sef',\n 'nom',\n 'pof',\n 'fut',\n 'net',\n 'tof',\n 'kas',\n 'pes',\n 'tat',\n 'suf',\n 'pek',\n 'kup',\n 'man',\n 'pin',\n 'fes',\n 'pum',\n 'nif',\n 'fuk',\n 'mup',\n 'mif',\n 'nup',\n 'kap',\n 'fum',\n 'sut',\n 'nin',\n 'tem',\n 'kef',\n 'kop',\n 'nok',\n 'kif',\n 'min',\n 'tif',\n 'kam',\n 'kan',\n 'mot',\n 'nep',\n 'fom',\n 'tit',\n 'fat',\n 'kon',\n 'pas',\n 'sof',\n 'nuk',\n 'fon',\n 'mim',\n 'pom',\n 'kom',\n 'mep',\n 'kip',\n 'fot',\n 'paf',\n 'kaf',\n 'tok',\n 'fis',\n 'pam',\n 'kak',\n 'nef',\n 'kek',\n 'sos',\n 'maf',\n 'pan',\n 'fup',\n 'set',\n 'nit',\n 'fit',\n 'kik',\n 'fak',\n 'kep',\n 'tas',\n 'mas',\n 'mop',\n 'mun',\n 'sot',\n 'kut',\n 'nus',\n 'tup',\n 'nas',\n 'sif',\n 'saf',\n 'nos',\n 'fip',\n 'pup',\n 'sap',\n 'pus',\n 'nop',\n 'sop',\n 'tum',\n 'mat',\n 'kem',\n 'pif',\n 'mek',\n 'tik',\n 'mof',\n 'pat',\n 'sik',\n 'muf',\n 'kus',\n 'tuk',\n 'fus',\n 'kes',\n 'pep',\n 'sum',\n 'mik',\n 'tet',\n 'met',\n 'nen',\n 'sek',\n 'tot',\n 'sep',\n 'faf',\n 'fas',\n 'nek',\n 'tam',\n 'sim',\n 'nes',\n 'sup',\n 'tus',\n 'puk',\n 'sun',\n 'fap',\n 'kun',\n 'kok',\n 'ken',\n 'ket',\n 'fef',\n 'fop',\n 'som',\n 'tuf',\n 'muk',\n 'kat',\n 'nak',\n 'sis',\n 'tim',\n 'pip',\n 'tom',\n 'pok',\n 'nam',\n 'mip',\n 'nan',\n 'pun',\n 'tos',\n 'mef',\n 'mes',\n 'sin',\n 'men',\n 'sak',\n 'sen',\n 'nuf',\n 'tun',\n 'kot',\n 'pet',\n 'tut',\n 'tak',\n 'mit',\n 'non',\n 'mut',\n 'map',\n 'tip',\n 'pit',\n 'mem',\n 'fin',\n 'pos',\n 'kim',\n 'pik',\n 'sok',\n 'kis',\n 'naf',\n 'sit',\n 'nat',\n 'fep',\n 'mam',\n 'pis',\n 'pim',\n 'puf',\n 'fuf',\n 'kin',\n 'fan',\n 'fik',\n 'ten',\n 'fif',\n 'mos',\n 'nof',\n 'fim',\n 'pot',\n 'ton',\n 'tan',\n 'mak',\n 'suk',\n 'sat',\n 'tep',\n 'sus',\n 'kuk',\n 'tap',\n 'pak',\n 'fos',\n 'nis',\n 'san',\n 'kum',\n 'nap',\n 'tis',\n 'mok',\n 'fok',\n 'fof',\n 'pap',\n 'tin',\n 'put',\n 'taf',\n 'fun',\n 'sas',\n 'fen',\n 'mon',\n 'fet',\n 'mis',\n 'kos',\n 'kof',\n 'sam',\n 'sem',\n 'nik',\n 'mum',\n 'ses',\n 'son',\n 'pop',\n 'pen',\n 'tef',\n 'mus',\n 'mom',\n 'pef',\n 'not',\n 'fem',\n 'fam',\n 'nim',\n 'nun',\n 'pon',\n 'tes',\n 'top',\n 'nip',\n 'pem',\n 'nut',\n 'fek',\n 'sip',\n 'kuf',\n 'num',\n 'kit',\n 'tek',\n 'nem',\n 'sef',\n 'nom',\n 'pof',\n 'fut',\n 'net',\n 'tof',\n 'kas',\n 'pes',\n 'tat',\n 'suf',\n 'pek',\n 'kup',\n 'man',\n 'pin',\n 'fes',\n 'pum',\n 'nif',\n 'fuk',\n 'mup',\n 'mif',\n 'nup',\n 'kap',\n 'fum',\n 'sut',\n 'nin',\n 'tem',\n 'kef',\n 'kop',\n 'nok',\n 'kif',\n 'min',\n 'tif',\n 'kam',\n 'kan',\n 'mot',\n 'nep',\n 'fom',\n 'tit',\n 'fat',\n 'kon',\n 'pas',\n 'sof',\n 'nuk',\n 'fon',\n 'mim',\n 'pom',\n 'kom',\n 'mep',\n 'kip',\n 'fot',\n 'paf',\n 'kaf',\n 'tok',\n 'fis',\n 'pam',\n 'kak',\n 'nef',\n 'kek',\n 'sos',\n 'maf',\n 'pan',\n 'fup',\n 'set',\n 'nit',\n 'fit',\n 'kik',\n 'fak',\n 'kep',\n 'tas',\n 'mas',\n 'mop',\n 'mun',\n 'sot',\n 'kut',\n 'nus',\n 'tup',\n 'nas',\n 'sif',\n 'saf',\n 'nos',\n 'fip',\n 'pup',\n 'sap',\n 'pus',\n 'nop',\n 'sop',\n 'tum',\n 'mat',\n 'kem',\n 'pif',\n 'mek',\n 'tik',\n 'mof',\n 'pat',\n 'sik',\n 'muf',\n 'kus',\n 'tuk',\n 'fus',\n 'kes',\n 'pep',\n 'sum',\n 'mik',\n 'tet',\n 'met',\n 'nen',\n 'sek',\n 'tot',\n 'sep',\n 'faf',\n 'fas',\n 'nek',\n 'tam',\n 'sim',\n 'nes',\n 'sup',\n 'tus',\n 'puk',\n 'sun',\n 'fap',\n 'kun',\n 'kok',\n 'ken',\n 'ket',\n 'fef',\n 'fop',\n 'som',\n 'tuf',\n 'muk',\n 'kat',\n 'nak',\n 'sis',\n 'tim',\n 'pip',\n 'tom',\n 'pok',\n 'nam',\n 'mip',\n 'nan',\n 'pun',\n 'tos',\n 'mef',\n 'mes',\n 'sin',\n 'men',\n 'sak',\n 'sen',\n 'nuf',\n 'tun',\n 'kot',\n 'pet',\n 'tut',\n 'tak',\n 'mit',\n 'non',\n 'mut',\n 'map',\n 'tip',\n 'pit',\n 'mem',\n 'fin',\n 'pos',\n 'kim',\n 'pik',\n 'sok',\n 'kis',\n 'naf',\n 'sit',\n 'nat',\n 'fep',\n 'mam',\n 'pis',\n 'pim',\n 'puf',\n 'fuf',\n 'kin',\n 'fan',\n 'fik',\n 'ten',\n 'fif',\n 'mos',\n 'nof',\n 'fim',\n 'pot',\n 'ton',\n 'tan',\n 'mak',\n 'suk',\n 'sat',\n 'tep',\n 'sus',\n 'kuk',\n 'tap',\n 'pak',\n 'fos',\n 'nis',\n 'san',\n 'kum',\n 'nap',\n 'tis',\n 'mok',\n 'fok',\n 'fof',\n 'pap',\n 'tin',\n 'put',\n 'taf',\n 'fun',\n 'sas',\n 'fen',\n 'mon',\n 'fet',\n 'mis',\n 'kos',\n 'kof',\n 'sam',\n 'sem',\n 'nik',\n 'mum',\n 'ses',\n 'son',\n 'pop',\n 'pen',\n 'tef',\n 'mus',\n 'mom',\n 'pef',\n 'not',\n 'fem',\n 'fam',\n 'nim',\n 'nun',\n 'pon',\n 'tes',\n 'top',\n 'nip',\n 'pem',\n 'nut',\n 'fek',\n 'sip',\n 'kuf',\n 'num',\n 'kit',\n 'tek',\n 'nem',\n 'sef',\n 'nom',\n 'pof',\n 'fut',\n 'net',\n 'tof',\n 'kas',\n 'pes',\n 'tat',\n 'suf',\n 'pek',\n 'kup',\n 'man',\n 'pin',\n 'fes',\n 'pum',\n 'nif',\n 'fuk',\n 'mup',\n 'mif',\n 'nup',\n 'kap',\n 'fum',\n 'sut',\n 'nin',\n 'tem',\n 'kef',\n 'kop',\n 'nok',\n 'kif',\n 'min',\n 'tif',\n 'kam',\n 'kan',\n 'mot',\n 'nep',\n 'fom',\n 'tit',\n 'fat',\n 'kon',\n 'pas',\n 'sof',\n 'nuk',\n 'fon',\n 'mim',\n 'pom',\n 'kom',\n 'mep',\n 'kip',\n 'fot',\n 'paf',\n 'kaf',\n 'tok',\n 'fis',\n 'pam',\n 'kak',\n 'nef',\n 'kek',\n 'sos',\n 'maf',\n 'pan',\n 'fup',\n 'set',\n 'nit',\n 'fit',\n 'kik',\n 'fak',\n 'kep',\n 'tas',\n 'mas',\n 'mop',\n 'mun',\n 'sot',\n 'kut',\n 'nus',\n 'tup',\n 'nas',\n 'sif',\n 'saf',\n 'nos',\n 'fip',\n 'pup',\n 'sap',\n 'pus',\n 'nop',\n 'sop',\n 'tum',\n 'mat',\n 'kem',\n 'pif',\n 'mek',\n 'tik',\n 'mof',\n 'pat',\n 'sik',\n 'muf',\n 'kus',\n 'tuk',\n 'fus',\n 'kes',\n 'pep',\n 'sum',\n 'mik',\n 'tet',\n 'met',\n 'nen',\n 'sek',\n 'tot',\n 'sep',\n 'faf',\n 'fas',\n 'nek',\n 'tam',\n 'sim',\n 'nes',\n 'sup',\n 'tus',\n 'puk',\n 'sun',\n 'fap',\n 'kun',\n 'kok',\n 'ken',\n 'ket',\n 'fef',\n 'fop',\n 'som',\n 'tuf',\n 'muk',\n 'kat',\n 'nak',\n 'sis',\n 'tim',\n 'pip',\n 'tom',\n 'pok',\n 'nam',\n 'mip',\n 'nan',\n 'pun',\n 'tos',\n 'mef',\n 'mes',\n 'sin',\n 'men',\n 'sak',\n 'sen',\n 'nuf',\n 'tun',\n 'kot',\n 'pet',\n 'tut',\n 'tak',\n 'mit',\n 'non',\n 'mut',\n 'map',\n 'tip',\n 'pit',\n 'mem',\n 'fin',\n 'pos',\n 'kim',\n 'pik',\n 'sok',\n 'kis',\n 'naf',\n 'sit',\n 'nat',\n 'fep',\n 'mam',\n 'pis',\n 'pim',\n 'puf',\n 'fuf',\n 'kin',\n 'fan',\n 'fik',\n 'ten',\n 'fif',\n 'mos',\n 'nof',\n 'fim',\n 'pot',\n 'ton',\n 'tan',\n 'mak',\n 'suk',\n 'sat',\n 'tep',\n 'sus',\n 'kuk',\n 'tap',\n 'pak',\n 'fos',\n 'nis',\n 'san',\n 'kum',\n 'nap',\n 'tis',\n 'mok',\n 'fok',\n 'fof',\n 'pap',\n 'tin',\n 'put',\n 'taf',\n 'fun',\n 'sas',\n 'fen',\n 'mon',\n 'fet',\n 'mis',\n 'kos',\n 'kof',\n 'sam',\n 'sem',\n 'nik',\n 'mum',\n 'ses',\n 'son',\n 'pop',\n 'pen',\n 'tef',\n 'mus',\n 'mom',\n 'pef',\n 'not',\n 'fem',\n 'fam',\n 'nim',\n 'nun',\n 'pon',\n 'tes',\n 'top',\n 'nip',\n 'pem',\n 'nut',\n 'fek',\n 'sip',\n 'kuf',\n 'num',\n 'kit',\n 'tek',\n 'nem',\n 'sef',\n 'nom',\n 'pof',\n 'fut',\n 'net',\n 'tof',\n 'kas',\n 'pes',\n 'tat',\n 'suf',\n 'pek',\n 'kup',\n 'man',\n 'pin',\n 'fes',\n 'pum',\n 'nif',\n 'fuk',\n 'mup',\n 'mif',\n 'nup',\n 'kap',\n 'fum',\n 'sut',\n 'nin',\n 'tem',\n 'kef',\n 'kop',\n 'nok',\n 'kif',\n 'min',\n 'tif',\n 'kam',\n 'kan',\n 'mot',\n 'nep',\n 'fom',\n 'tit',\n 'fat',\n 'kon',\n 'pas']"
     },
     "execution_count": 24,
     "metadata": {},
     "output_type": "execute_result"
    }
   ],
   "source": [
    "all_words = generate_all_words(NUMBER_OF_REPETITIONS, generate_unique_words, sort_randomly)\n",
    "all_words"
   ],
   "metadata": {
    "collapsed": false
   }
  },
  {
   "cell_type": "code",
   "execution_count": 25,
   "outputs": [
    {
     "data": {
      "text/plain": "980"
     },
     "execution_count": 25,
     "metadata": {},
     "output_type": "execute_result"
    }
   ],
   "source": [
    "len(all_words)"
   ],
   "metadata": {
    "collapsed": false
   }
  },
  {
   "cell_type": "code",
   "execution_count": 26,
   "outputs": [],
   "source": [
    "def split_into_groups(words: List[str], words_per_group: int) -> List[List[str]]:\n",
    "    groups: List[List[str]] = []\n",
    "    for i in range(0, len(words), words_per_group):\n",
    "        groups.append(words[i:i+words_per_group])\n",
    "    return groups"
   ],
   "metadata": {
    "collapsed": false
   }
  },
  {
   "cell_type": "code",
   "execution_count": 27,
   "outputs": [
    {
     "data": {
      "text/plain": "[['sof', 'nuk', 'fon', 'mim'],\n ['pom', 'kom', 'mep', 'kip'],\n ['fot', 'paf', 'kaf', 'tok'],\n ['fis', 'pam', 'kak', 'nef'],\n ['kek', 'sos', 'maf', 'pan'],\n ['fup', 'set', 'nit', 'fit'],\n ['kik', 'fak', 'kep', 'tas'],\n ['mas', 'mop', 'mun', 'sot'],\n ['kut', 'nus', 'tup', 'nas'],\n ['sif', 'saf', 'nos', 'fip'],\n ['pup', 'sap', 'pus', 'nop'],\n ['sop', 'tum', 'mat', 'kem'],\n ['pif', 'mek', 'tik', 'mof'],\n ['pat', 'sik', 'muf', 'kus'],\n ['tuk', 'fus', 'kes', 'pep'],\n ['sum', 'mik', 'tet', 'met'],\n ['nen', 'sek', 'tot', 'sep'],\n ['faf', 'fas', 'nek', 'tam'],\n ['sim', 'nes', 'sup', 'tus'],\n ['puk', 'sun', 'fap', 'kun'],\n ['kok', 'ken', 'ket', 'fef'],\n ['fop', 'som', 'tuf', 'muk'],\n ['kat', 'nak', 'sis', 'tim'],\n ['pip', 'tom', 'pok', 'nam'],\n ['mip', 'nan', 'pun', 'tos'],\n ['mef', 'mes', 'sin', 'men'],\n ['sak', 'sen', 'nuf', 'tun'],\n ['kot', 'pet', 'tut', 'tak'],\n ['mit', 'non', 'mut', 'map'],\n ['tip', 'pit', 'mem', 'fin'],\n ['pos', 'kim', 'pik', 'sok'],\n ['kis', 'naf', 'sit', 'nat'],\n ['fep', 'mam', 'pis', 'pim'],\n ['puf', 'fuf', 'kin', 'fan'],\n ['fik', 'ten', 'fif', 'mos'],\n ['nof', 'fim', 'pot', 'ton'],\n ['tan', 'mak', 'suk', 'sat'],\n ['tep', 'sus', 'kuk', 'tap'],\n ['pak', 'fos', 'nis', 'san'],\n ['kum', 'nap', 'tis', 'mok'],\n ['fok', 'fof', 'pap', 'tin'],\n ['put', 'taf', 'fun', 'sas'],\n ['fen', 'mon', 'fet', 'mis'],\n ['kos', 'kof', 'sam', 'sem'],\n ['nik', 'mum', 'ses', 'son'],\n ['pop', 'pen', 'tef', 'mus'],\n ['mom', 'pef', 'not', 'fem'],\n ['fam', 'nim', 'nun', 'pon'],\n ['tes', 'top', 'nip', 'pem'],\n ['nut', 'fek', 'sip', 'kuf'],\n ['num', 'kit', 'tek', 'nem'],\n ['sef', 'nom', 'pof', 'fut'],\n ['net', 'tof', 'kas', 'pes'],\n ['tat', 'suf', 'pek', 'kup'],\n ['man', 'pin', 'fes', 'pum'],\n ['nif', 'fuk', 'mup', 'mif'],\n ['nup', 'kap', 'fum', 'sut'],\n ['nin', 'tem', 'kef', 'kop'],\n ['nok', 'kif', 'min', 'tif'],\n ['kam', 'kan', 'mot', 'nep'],\n ['fom', 'tit', 'fat', 'kon'],\n ['pas', 'sof', 'nuk', 'fon'],\n ['mim', 'pom', 'kom', 'mep'],\n ['kip', 'fot', 'paf', 'kaf'],\n ['tok', 'fis', 'pam', 'kak'],\n ['nef', 'kek', 'sos', 'maf'],\n ['pan', 'fup', 'set', 'nit'],\n ['fit', 'kik', 'fak', 'kep'],\n ['tas', 'mas', 'mop', 'mun'],\n ['sot', 'kut', 'nus', 'tup'],\n ['nas', 'sif', 'saf', 'nos'],\n ['fip', 'pup', 'sap', 'pus'],\n ['nop', 'sop', 'tum', 'mat'],\n ['kem', 'pif', 'mek', 'tik'],\n ['mof', 'pat', 'sik', 'muf'],\n ['kus', 'tuk', 'fus', 'kes'],\n ['pep', 'sum', 'mik', 'tet'],\n ['met', 'nen', 'sek', 'tot'],\n ['sep', 'faf', 'fas', 'nek'],\n ['tam', 'sim', 'nes', 'sup'],\n ['tus', 'puk', 'sun', 'fap'],\n ['kun', 'kok', 'ken', 'ket'],\n ['fef', 'fop', 'som', 'tuf'],\n ['muk', 'kat', 'nak', 'sis'],\n ['tim', 'pip', 'tom', 'pok'],\n ['nam', 'mip', 'nan', 'pun'],\n ['tos', 'mef', 'mes', 'sin'],\n ['men', 'sak', 'sen', 'nuf'],\n ['tun', 'kot', 'pet', 'tut'],\n ['tak', 'mit', 'non', 'mut'],\n ['map', 'tip', 'pit', 'mem'],\n ['fin', 'pos', 'kim', 'pik'],\n ['sok', 'kis', 'naf', 'sit'],\n ['nat', 'fep', 'mam', 'pis'],\n ['pim', 'puf', 'fuf', 'kin'],\n ['fan', 'fik', 'ten', 'fif'],\n ['mos', 'nof', 'fim', 'pot'],\n ['ton', 'tan', 'mak', 'suk'],\n ['sat', 'tep', 'sus', 'kuk'],\n ['tap', 'pak', 'fos', 'nis'],\n ['san', 'kum', 'nap', 'tis'],\n ['mok', 'fok', 'fof', 'pap'],\n ['tin', 'put', 'taf', 'fun'],\n ['sas', 'fen', 'mon', 'fet'],\n ['mis', 'kos', 'kof', 'sam'],\n ['sem', 'nik', 'mum', 'ses'],\n ['son', 'pop', 'pen', 'tef'],\n ['mus', 'mom', 'pef', 'not'],\n ['fem', 'fam', 'nim', 'nun'],\n ['pon', 'tes', 'top', 'nip'],\n ['pem', 'nut', 'fek', 'sip'],\n ['kuf', 'num', 'kit', 'tek'],\n ['nem', 'sef', 'nom', 'pof'],\n ['fut', 'net', 'tof', 'kas'],\n ['pes', 'tat', 'suf', 'pek'],\n ['kup', 'man', 'pin', 'fes'],\n ['pum', 'nif', 'fuk', 'mup'],\n ['mif', 'nup', 'kap', 'fum'],\n ['sut', 'nin', 'tem', 'kef'],\n ['kop', 'nok', 'kif', 'min'],\n ['tif', 'kam', 'kan', 'mot'],\n ['nep', 'fom', 'tit', 'fat'],\n ['kon', 'pas', 'sof', 'nuk'],\n ['fon', 'mim', 'pom', 'kom'],\n ['mep', 'kip', 'fot', 'paf'],\n ['kaf', 'tok', 'fis', 'pam'],\n ['kak', 'nef', 'kek', 'sos'],\n ['maf', 'pan', 'fup', 'set'],\n ['nit', 'fit', 'kik', 'fak'],\n ['kep', 'tas', 'mas', 'mop'],\n ['mun', 'sot', 'kut', 'nus'],\n ['tup', 'nas', 'sif', 'saf'],\n ['nos', 'fip', 'pup', 'sap'],\n ['pus', 'nop', 'sop', 'tum'],\n ['mat', 'kem', 'pif', 'mek'],\n ['tik', 'mof', 'pat', 'sik'],\n ['muf', 'kus', 'tuk', 'fus'],\n ['kes', 'pep', 'sum', 'mik'],\n ['tet', 'met', 'nen', 'sek'],\n ['tot', 'sep', 'faf', 'fas'],\n ['nek', 'tam', 'sim', 'nes'],\n ['sup', 'tus', 'puk', 'sun'],\n ['fap', 'kun', 'kok', 'ken'],\n ['ket', 'fef', 'fop', 'som'],\n ['tuf', 'muk', 'kat', 'nak'],\n ['sis', 'tim', 'pip', 'tom'],\n ['pok', 'nam', 'mip', 'nan'],\n ['pun', 'tos', 'mef', 'mes'],\n ['sin', 'men', 'sak', 'sen'],\n ['nuf', 'tun', 'kot', 'pet'],\n ['tut', 'tak', 'mit', 'non'],\n ['mut', 'map', 'tip', 'pit'],\n ['mem', 'fin', 'pos', 'kim'],\n ['pik', 'sok', 'kis', 'naf'],\n ['sit', 'nat', 'fep', 'mam'],\n ['pis', 'pim', 'puf', 'fuf'],\n ['kin', 'fan', 'fik', 'ten'],\n ['fif', 'mos', 'nof', 'fim'],\n ['pot', 'ton', 'tan', 'mak'],\n ['suk', 'sat', 'tep', 'sus'],\n ['kuk', 'tap', 'pak', 'fos'],\n ['nis', 'san', 'kum', 'nap'],\n ['tis', 'mok', 'fok', 'fof'],\n ['pap', 'tin', 'put', 'taf'],\n ['fun', 'sas', 'fen', 'mon'],\n ['fet', 'mis', 'kos', 'kof'],\n ['sam', 'sem', 'nik', 'mum'],\n ['ses', 'son', 'pop', 'pen'],\n ['tef', 'mus', 'mom', 'pef'],\n ['not', 'fem', 'fam', 'nim'],\n ['nun', 'pon', 'tes', 'top'],\n ['nip', 'pem', 'nut', 'fek'],\n ['sip', 'kuf', 'num', 'kit'],\n ['tek', 'nem', 'sef', 'nom'],\n ['pof', 'fut', 'net', 'tof'],\n ['kas', 'pes', 'tat', 'suf'],\n ['pek', 'kup', 'man', 'pin'],\n ['fes', 'pum', 'nif', 'fuk'],\n ['mup', 'mif', 'nup', 'kap'],\n ['fum', 'sut', 'nin', 'tem'],\n ['kef', 'kop', 'nok', 'kif'],\n ['min', 'tif', 'kam', 'kan'],\n ['mot', 'nep', 'fom', 'tit'],\n ['fat', 'kon', 'pas', 'sof'],\n ['nuk', 'fon', 'mim', 'pom'],\n ['kom', 'mep', 'kip', 'fot'],\n ['paf', 'kaf', 'tok', 'fis'],\n ['pam', 'kak', 'nef', 'kek'],\n ['sos', 'maf', 'pan', 'fup'],\n ['set', 'nit', 'fit', 'kik'],\n ['fak', 'kep', 'tas', 'mas'],\n ['mop', 'mun', 'sot', 'kut'],\n ['nus', 'tup', 'nas', 'sif'],\n ['saf', 'nos', 'fip', 'pup'],\n ['sap', 'pus', 'nop', 'sop'],\n ['tum', 'mat', 'kem', 'pif'],\n ['mek', 'tik', 'mof', 'pat'],\n ['sik', 'muf', 'kus', 'tuk'],\n ['fus', 'kes', 'pep', 'sum'],\n ['mik', 'tet', 'met', 'nen'],\n ['sek', 'tot', 'sep', 'faf'],\n ['fas', 'nek', 'tam', 'sim'],\n ['nes', 'sup', 'tus', 'puk'],\n ['sun', 'fap', 'kun', 'kok'],\n ['ken', 'ket', 'fef', 'fop'],\n ['som', 'tuf', 'muk', 'kat'],\n ['nak', 'sis', 'tim', 'pip'],\n ['tom', 'pok', 'nam', 'mip'],\n ['nan', 'pun', 'tos', 'mef'],\n ['mes', 'sin', 'men', 'sak'],\n ['sen', 'nuf', 'tun', 'kot'],\n ['pet', 'tut', 'tak', 'mit'],\n ['non', 'mut', 'map', 'tip'],\n ['pit', 'mem', 'fin', 'pos'],\n ['kim', 'pik', 'sok', 'kis'],\n ['naf', 'sit', 'nat', 'fep'],\n ['mam', 'pis', 'pim', 'puf'],\n ['fuf', 'kin', 'fan', 'fik'],\n ['ten', 'fif', 'mos', 'nof'],\n ['fim', 'pot', 'ton', 'tan'],\n ['mak', 'suk', 'sat', 'tep'],\n ['sus', 'kuk', 'tap', 'pak'],\n ['fos', 'nis', 'san', 'kum'],\n ['nap', 'tis', 'mok', 'fok'],\n ['fof', 'pap', 'tin', 'put'],\n ['taf', 'fun', 'sas', 'fen'],\n ['mon', 'fet', 'mis', 'kos'],\n ['kof', 'sam', 'sem', 'nik'],\n ['mum', 'ses', 'son', 'pop'],\n ['pen', 'tef', 'mus', 'mom'],\n ['pef', 'not', 'fem', 'fam'],\n ['nim', 'nun', 'pon', 'tes'],\n ['top', 'nip', 'pem', 'nut'],\n ['fek', 'sip', 'kuf', 'num'],\n ['kit', 'tek', 'nem', 'sef'],\n ['nom', 'pof', 'fut', 'net'],\n ['tof', 'kas', 'pes', 'tat'],\n ['suf', 'pek', 'kup', 'man'],\n ['pin', 'fes', 'pum', 'nif'],\n ['fuk', 'mup', 'mif', 'nup'],\n ['kap', 'fum', 'sut', 'nin'],\n ['tem', 'kef', 'kop', 'nok'],\n ['kif', 'min', 'tif', 'kam'],\n ['kan', 'mot', 'nep', 'fom'],\n ['tit', 'fat', 'kon', 'pas']]"
     },
     "execution_count": 27,
     "metadata": {},
     "output_type": "execute_result"
    }
   ],
   "source": [
    "groups_of_words = split_into_groups(all_words, WORDS_PER_GROUP)\n",
    "groups_of_words"
   ],
   "metadata": {
    "collapsed": false
   }
  },
  {
   "cell_type": "code",
   "execution_count": 28,
   "outputs": [],
   "source": [
    "def add_redundant_word_to_groups(groups: List[List[str]], words_fn, words_per_group, redundant_words_per_group: int) -> List[List[str]]:\n",
    "    redundant_words = words_fn()\n",
    "    random.seed(RANDOM_SEED)\n",
    "    for i in range(0, len(groups) - 1):\n",
    "        for j in range(redundant_words_per_group):\n",
    "            candidate = random.choice(redundant_words)\n",
    "            while candidate in groups[:words_per_group]:\n",
    "                candidate = random.choice(redundant_words)\n",
    "            if len(groups[i]) > words_per_group + j:\n",
    "                groups[i][words_per_group+j] = candidate\n",
    "            else:\n",
    "                groups[i].append(candidate)\n",
    "\n",
    "    i = len(groups) - 1\n",
    "    words_in_group = len(groups[i])\n",
    "    for j in range(words_per_group + redundant_words_per_group - words_in_group):\n",
    "        candidate = random.choice(redundant_words)\n",
    "        while candidate in groups[:words_per_group]:\n",
    "            candidate = random.choice(redundant_words)\n",
    "        groups[i].append(candidate)\n",
    "    return groups"
   ],
   "metadata": {
    "collapsed": false
   }
  },
  {
   "cell_type": "code",
   "execution_count": 29,
   "outputs": [
    {
     "data": {
      "text/plain": "[['sof', 'nuk', 'fon', 'mim', 'pas'],\n ['pom', 'kom', 'mep', 'kip', 'kon'],\n ['fot', 'paf', 'kaf', 'tok', 'fat'],\n ['fis', 'pam', 'kak', 'nef', 'tit'],\n ['kek', 'sos', 'maf', 'pan', 'fom'],\n ['fup', 'set', 'nit', 'fit', 'nep'],\n ['kik', 'fak', 'kep', 'tas', 'mot'],\n ['mas', 'mop', 'mun', 'sot', 'kan'],\n ['kut', 'nus', 'tup', 'nas', 'kam'],\n ['sif', 'saf', 'nos', 'fip', 'tif'],\n ['pup', 'sap', 'pus', 'nop', 'min'],\n ['sop', 'tum', 'mat', 'kem', 'kif'],\n ['pif', 'mek', 'tik', 'mof', 'nok'],\n ['pat', 'sik', 'muf', 'kus', 'kop'],\n ['tuk', 'fus', 'kes', 'pep', 'kef'],\n ['sum', 'mik', 'tet', 'met', 'tem'],\n ['nen', 'sek', 'tot', 'sep', 'nin'],\n ['faf', 'fas', 'nek', 'tam', 'sut'],\n ['sim', 'nes', 'sup', 'tus', 'fum'],\n ['puk', 'sun', 'fap', 'kun', 'kap'],\n ['kok', 'ken', 'ket', 'fef', 'nup'],\n ['fop', 'som', 'tuf', 'muk', 'mif'],\n ['kat', 'nak', 'sis', 'tim', 'mup'],\n ['pip', 'tom', 'pok', 'nam', 'fuk'],\n ['mip', 'nan', 'pun', 'tos', 'nif'],\n ['mef', 'mes', 'sin', 'men', 'pum'],\n ['sak', 'sen', 'nuf', 'tun', 'fes'],\n ['kot', 'pet', 'tut', 'tak', 'pin'],\n ['mit', 'non', 'mut', 'map', 'man'],\n ['tip', 'pit', 'mem', 'fin', 'kup'],\n ['pos', 'kim', 'pik', 'sok', 'pek'],\n ['kis', 'naf', 'sit', 'nat', 'suf'],\n ['fep', 'mam', 'pis', 'pim', 'man'],\n ['puf', 'fuf', 'kin', 'fan', 'pes'],\n ['fik', 'ten', 'fif', 'mos', 'kas'],\n ['nof', 'fim', 'pot', 'ton', 'kop'],\n ['tan', 'mak', 'suk', 'sat', 'net'],\n ['tep', 'sus', 'kuk', 'tap', 'fut'],\n ['pak', 'fos', 'nis', 'san', 'pof'],\n ['kum', 'nap', 'tis', 'mok', 'nom'],\n ['fok', 'fof', 'pap', 'tin', 'sef'],\n ['put', 'taf', 'fun', 'sas', 'nem'],\n ['fen', 'mon', 'fet', 'mis', 'fes'],\n ['kos', 'kof', 'sam', 'sem', 'tem'],\n ['nik', 'mum', 'ses', 'son', 'kit'],\n ['pop', 'pen', 'tef', 'mus', 'tif'],\n ['mom', 'pef', 'not', 'fem', 'num'],\n ['fam', 'nim', 'nun', 'pon', 'tif'],\n ['tes', 'top', 'nip', 'pem', 'kuf'],\n ['nut', 'fek', 'sip', 'kuf', 'sip'],\n ['num', 'kit', 'tek', 'nem', 'fek'],\n ['sef', 'nom', 'pof', 'fut', 'nut'],\n ['net', 'tof', 'kas', 'pes', 'pem'],\n ['tat', 'suf', 'pek', 'kup', 'nip'],\n ['man', 'pin', 'fes', 'pum', 'nup'],\n ['nif', 'fuk', 'mup', 'mif', 'suk'],\n ['nup', 'kap', 'fum', 'sut', 'mup'],\n ['nin', 'tem', 'kef', 'kop', 'pon'],\n ['nok', 'kif', 'min', 'tif', 'nun'],\n ['kam', 'kan', 'mot', 'nep', 'nim'],\n ['fom', 'tit', 'fat', 'kon', 'fam'],\n ['pas', 'sof', 'nuk', 'fon', 'fem'],\n ['mim', 'pom', 'kom', 'mep', 'not'],\n ['kip', 'fot', 'paf', 'kaf', 'pef'],\n ['tok', 'fis', 'pam', 'kak', 'mom'],\n ['nef', 'kek', 'sos', 'maf', 'mus'],\n ['pan', 'fup', 'set', 'nit', 'tit'],\n ['fit', 'kik', 'fak', 'kep', 'sek'],\n ['tas', 'mas', 'mop', 'mun', 'pin'],\n ['sot', 'kut', 'nus', 'tup', 'sen'],\n ['nas', 'sif', 'saf', 'nos', 'pen'],\n ['fip', 'pup', 'sap', 'pus', 'pop'],\n ['nop', 'sop', 'tum', 'mat', 'kuf'],\n ['kem', 'pif', 'mek', 'tik', 'fem'],\n ['mof', 'pat', 'sik', 'muf', 'tan'],\n ['kus', 'tuk', 'fus', 'kes', 'tip'],\n ['pep', 'sum', 'mik', 'tet', 'mum'],\n ['met', 'nen', 'sek', 'tot', 'son'],\n ['sep', 'faf', 'fas', 'nek', 'tam'],\n ['tam', 'sim', 'nes', 'sup', 'nik'],\n ['tus', 'puk', 'sun', 'fap', 'mom'],\n ['kun', 'kok', 'ken', 'ket', 'mum'],\n ['fef', 'fop', 'som', 'tuf', 'taf'],\n ['muk', 'kat', 'nak', 'sis', 'kof'],\n ['tim', 'pip', 'tom', 'pok', 'kos'],\n ['nam', 'mip', 'nan', 'pun', 'top'],\n ['tos', 'mef', 'mes', 'sin', 'sin'],\n ['men', 'sak', 'sen', 'nuf', 'mis'],\n ['tun', 'kot', 'pet', 'tut', 'fet'],\n ['tak', 'mit', 'non', 'mut', 'mon'],\n ['map', 'tip', 'pit', 'mem', 'fen'],\n ['fin', 'pos', 'kim', 'pik', 'pup'],\n ['sok', 'kis', 'naf', 'sit', 'pop'],\n ['nat', 'fep', 'mam', 'pis', 'pus'],\n ['pim', 'puf', 'fuf', 'kin', 'fun'],\n ['fan', 'fik', 'ten', 'fif', 'ten'],\n ['mos', 'nof', 'fim', 'pot', 'tom'],\n ['ton', 'tan', 'mak', 'suk', 'sum'],\n ['sat', 'tep', 'sus', 'kuk', 'kas'],\n ['tap', 'pak', 'fos', 'nis', 'mum'],\n ['san', 'kum', 'nap', 'tis', 'kop'],\n ['mok', 'fok', 'fof', 'pap', 'pap'],\n ['tin', 'put', 'taf', 'fun', 'sut'],\n ['sas', 'fen', 'mon', 'fet', 'fof'],\n ['mis', 'kos', 'kof', 'sam', 'fok'],\n ['sem', 'nik', 'mum', 'ses', 'sut'],\n ['son', 'pop', 'pen', 'tef', 'mok'],\n ['mus', 'mom', 'pef', 'not', 'fet'],\n ['fem', 'fam', 'nim', 'nun', 'ton'],\n ['pon', 'tes', 'top', 'nip', 'nap'],\n ['pem', 'nut', 'fek', 'sip', 'sif'],\n ['kuf', 'num', 'kit', 'tek', 'kum'],\n ['nem', 'sef', 'nom', 'pof', 'fem'],\n ['fut', 'net', 'tof', 'kas', 'sik'],\n ['pes', 'tat', 'suf', 'pek', 'sis'],\n ['kup', 'man', 'pin', 'fes', 'tem'],\n ['pum', 'nif', 'fuk', 'mup', 'nis'],\n ['mif', 'nup', 'kap', 'fum', 'fos'],\n ['sut', 'nin', 'tem', 'kef', 'pak'],\n ['kop', 'nok', 'kif', 'min', 'pek'],\n ['tif', 'kam', 'kan', 'mot', 'kuk'],\n ['nep', 'fom', 'tit', 'fat', 'sak'],\n ['kon', 'pas', 'sof', 'nuk', 'net'],\n ['fon', 'mim', 'pom', 'kom', 'fuk'],\n ['mep', 'kip', 'fot', 'paf', 'ten'],\n ['kaf', 'tok', 'fis', 'pam', 'ses'],\n ['kak', 'nef', 'kek', 'sos', 'kuk'],\n ['maf', 'pan', 'fup', 'set', 'nap'],\n ['nit', 'fit', 'kik', 'fak', 'mak'],\n ['kep', 'tas', 'mas', 'mop', 'tum'],\n ['mun', 'sot', 'kut', 'nus', 'nem'],\n ['tup', 'nas', 'sif', 'saf', 'som'],\n ['nos', 'fip', 'pup', 'sap', 'pef'],\n ['pus', 'nop', 'sop', 'tum', 'tuf'],\n ['mat', 'kem', 'pif', 'mek', 'min'],\n ['tik', 'mof', 'pat', 'sik', 'kas'],\n ['muf', 'kus', 'tuk', 'fus', 'sam'],\n ['kes', 'pep', 'sum', 'mik', 'tek'],\n ['tet', 'met', 'nen', 'sek', 'fim'],\n ['tot', 'sep', 'faf', 'fas', 'sup'],\n ['nek', 'tam', 'sim', 'nes', 'nof'],\n ['sup', 'tus', 'puk', 'sun', 'pan'],\n ['fap', 'kun', 'kok', 'ken', 'pof'],\n ['ket', 'fef', 'fop', 'som', 'mos'],\n ['tuf', 'muk', 'kat', 'nak', 'fif'],\n ['sis', 'tim', 'pip', 'tom', 'tut'],\n ['pok', 'nam', 'mip', 'nan', 'nif'],\n ['pun', 'tos', 'mef', 'mes', 'tin'],\n ['sin', 'men', 'sak', 'sen', 'pep'],\n ['nuf', 'tun', 'kot', 'pet', 'fik'],\n ['tut', 'tak', 'mit', 'non', 'tun'],\n ['mut', 'map', 'tip', 'pit', 'fan'],\n ['mem', 'fin', 'pos', 'kim', 'kin'],\n ['pik', 'sok', 'kis', 'naf', 'tan'],\n ['sit', 'nat', 'fep', 'mam', 'fuf'],\n ['pis', 'pim', 'puf', 'fuf', 'fen'],\n ['kin', 'fan', 'fik', 'ten', 'kum'],\n ['fif', 'mos', 'nof', 'fim', 'mok'],\n ['pot', 'ton', 'tan', 'mak', 'tot'],\n ['suk', 'sat', 'tep', 'sus', 'pam'],\n ['kuk', 'tap', 'pak', 'fos', 'mam'],\n ['nis', 'san', 'kum', 'nap', 'fep'],\n ['tis', 'mok', 'fok', 'fof', 'tan'],\n ['pap', 'tin', 'put', 'taf', 'pum'],\n ['fun', 'sas', 'fen', 'mon', 'tek'],\n ['fet', 'mis', 'kos', 'kof', 'nat'],\n ['sam', 'sem', 'nik', 'mum', 'tos'],\n ['ses', 'son', 'pop', 'pen', 'tak'],\n ['tef', 'mus', 'mom', 'pef', 'nan'],\n ['not', 'fem', 'fam', 'nim', 'fim'],\n ['nun', 'pon', 'tes', 'top', 'fis'],\n ['nip', 'pem', 'nut', 'fek', 'mus'],\n ['sip', 'kuf', 'num', 'kit', 'kot'],\n ['tek', 'nem', 'sef', 'nom', 'kaf'],\n ['pof', 'fut', 'net', 'tof', 'pis'],\n ['kas', 'pes', 'tat', 'suf', 'kem'],\n ['pek', 'kup', 'man', 'pin', 'fis'],\n ['fes', 'pum', 'nif', 'fuk', 'pem'],\n ['mup', 'mif', 'nup', 'kap', 'sus'],\n ['fum', 'sut', 'nin', 'tem', 'pap'],\n ['kef', 'kop', 'nok', 'kif', 'tuk'],\n ['min', 'tif', 'kam', 'kan', 'sas'],\n ['mot', 'nep', 'fom', 'tit', 'tuf'],\n ['fat', 'kon', 'pas', 'sof', 'fup'],\n ['nuk', 'fon', 'mim', 'pom', 'top'],\n ['kom', 'mep', 'kip', 'fot', 'pan'],\n ['paf', 'kaf', 'tok', 'fis', 'kip'],\n ['pam', 'kak', 'nef', 'kek', 'nit'],\n ['sos', 'maf', 'pan', 'fup', 'mif'],\n ['set', 'nit', 'fit', 'kik', 'kok'],\n ['fak', 'kep', 'tas', 'mas', 'nom'],\n ['mop', 'mun', 'sot', 'kut', 'kuf'],\n ['nus', 'tup', 'nas', 'sif', 'pit'],\n ['saf', 'nos', 'fip', 'pup', 'suk'],\n ['sap', 'pus', 'nop', 'sop', 'pop'],\n ['tum', 'mat', 'kem', 'pif', 'pik'],\n ['mek', 'tik', 'mof', 'pat', 'map'],\n ['sik', 'muf', 'kus', 'tuk', 'sap'],\n ['fus', 'kes', 'pep', 'sum', 'nit'],\n ['mik', 'tet', 'met', 'nen', 'sak'],\n ['sek', 'tot', 'sep', 'faf', 'mif'],\n ['fas', 'nek', 'tam', 'sim', 'kuf'],\n ['nes', 'sup', 'tus', 'puk', 'muk'],\n ['sun', 'fap', 'kun', 'kok', 'fos'],\n ['ken', 'ket', 'fef', 'fop', 'kos'],\n ['som', 'tuf', 'muk', 'kat', 'fim'],\n ['nak', 'sis', 'tim', 'pip', 'kof'],\n ['tom', 'pok', 'nam', 'mip', 'met'],\n ['nan', 'pun', 'tos', 'mef', 'mas'],\n ['mes', 'sin', 'men', 'sak', 'tan'],\n ['sen', 'nuf', 'tun', 'kot', 'nis'],\n ['pet', 'tut', 'tak', 'mit', 'kaf'],\n ['non', 'mut', 'map', 'tip', 'kik'],\n ['pit', 'mem', 'fin', 'pos', 'sus'],\n ['kim', 'pik', 'sok', 'kis', 'fik'],\n ['naf', 'sit', 'nat', 'fep', 'mot'],\n ['mam', 'pis', 'pim', 'puf', 'mof'],\n ['fuf', 'kin', 'fan', 'fik', 'nem'],\n ['ten', 'fif', 'mos', 'nof', 'not'],\n ['fim', 'pot', 'ton', 'tan', 'pop'],\n ['mak', 'suk', 'sat', 'tep', 'tas'],\n ['sus', 'kuk', 'tap', 'pak', 'fem'],\n ['fos', 'nis', 'san', 'kum', 'ses'],\n ['nap', 'tis', 'mok', 'fok', 'kek'],\n ['fof', 'pap', 'tin', 'put', 'kot'],\n ['taf', 'fun', 'sas', 'fen', 'tem'],\n ['mon', 'fet', 'mis', 'kos', 'sin'],\n ['kof', 'sam', 'sem', 'nik', 'put'],\n ['mum', 'ses', 'son', 'pop', 'net'],\n ['pen', 'tef', 'mus', 'mom', 'kut'],\n ['pef', 'not', 'fem', 'fam', 'ken'],\n ['nim', 'nun', 'pon', 'tes', 'kek'],\n ['top', 'nip', 'pem', 'nut', 'ken'],\n ['fek', 'sip', 'kuf', 'num', 'kek'],\n ['kit', 'tek', 'nem', 'sef', 'fep'],\n ['nom', 'pof', 'fut', 'net', 'fak'],\n ['tof', 'kas', 'pes', 'tat', 'fof'],\n ['suf', 'pek', 'kup', 'man', 'mef'],\n ['pin', 'fes', 'pum', 'nif', 'set'],\n ['fuk', 'mup', 'mif', 'nup', 'nen'],\n ['kap', 'fum', 'sut', 'nin', 'pin'],\n ['tem', 'kef', 'kop', 'nok', 'kus'],\n ['kif', 'min', 'tif', 'kam', 'fik'],\n ['kan', 'mot', 'nep', 'fom', 'mus'],\n ['tit', 'fat', 'kon', 'pas', 'kus']]"
     },
     "execution_count": 29,
     "metadata": {},
     "output_type": "execute_result"
    }
   ],
   "source": [
    "add_redundant_word_to_groups(groups_of_words, generate_unique_words, WORDS_PER_GROUP, REDUNDANT_WORDS_PER_GROUP)\n"
   ],
   "metadata": {
    "collapsed": false
   }
  },
  {
   "cell_type": "code",
   "execution_count": 48,
   "outputs": [],
   "source": [
    "def calculate_levenshtein_distance(word_a: str, word_b: str) -> Tuple[int, List[int]]:\n",
    "    if len(word_a) != len(word_b):\n",
    "        raise ValueError('Words must be of the same length')\n",
    "\n",
    "    number_of_different_letters = 0\n",
    "    different_positions = []\n",
    "    for i in range(len(word_a)):\n",
    "        if word_a[i] != word_b[i]:\n",
    "            number_of_different_letters += 1\n",
    "            different_positions.append(i)\n",
    "\n",
    "    return number_of_different_letters, different_positions"
   ],
   "metadata": {
    "collapsed": false
   }
  },
  {
   "cell_type": "code",
   "execution_count": 52,
   "outputs": [],
   "source": [
    "def find_minimal_pairs(words: List[str]) -> List[Tuple[Tuple[str, str], int]]:\n",
    "    minimal_pairs: List[Tuple[Tuple[str, str], int]] = []\n",
    "    for i in range(len(words)):\n",
    "        for j in range(i+1, len(words)):\n",
    "            levenshtein_distance, different_positions = calculate_levenshtein_distance(words[i], words[j])\n",
    "            if levenshtein_distance == 1:\n",
    "                minimal_pairs.append(((words[i], words[j]), different_positions[0]))\n",
    "    return minimal_pairs"
   ],
   "metadata": {
    "collapsed": false
   }
  },
  {
   "cell_type": "code",
   "execution_count": 53,
   "outputs": [
    {
     "data": {
      "text/plain": "1960"
     },
     "execution_count": 53,
     "metadata": {},
     "output_type": "execute_result"
    }
   ],
   "source": [
    "minimal_pairs = find_minimal_pairs(generate_unique_words())\n",
    "len(minimal_pairs)"
   ],
   "metadata": {
    "collapsed": false
   }
  },
  {
   "cell_type": "code",
   "execution_count": 54,
   "outputs": [
    {
     "data": {
      "text/plain": "[(('faf', 'fak'), 2),\n (('faf', 'fam'), 2),\n (('faf', 'fan'), 2),\n (('faf', 'fap'), 2),\n (('faf', 'fas'), 2),\n (('faf', 'fat'), 2),\n (('faf', 'fef'), 1),\n (('faf', 'fif'), 1),\n (('faf', 'fof'), 1),\n (('faf', 'fuf'), 1),\n (('faf', 'kaf'), 0),\n (('faf', 'maf'), 0),\n (('faf', 'naf'), 0),\n (('faf', 'paf'), 0),\n (('faf', 'saf'), 0),\n (('faf', 'taf'), 0),\n (('fak', 'fam'), 2),\n (('fak', 'fan'), 2),\n (('fak', 'fap'), 2),\n (('fak', 'fas'), 2),\n (('fak', 'fat'), 2),\n (('fak', 'fek'), 1),\n (('fak', 'fik'), 1),\n (('fak', 'fok'), 1),\n (('fak', 'fuk'), 1),\n (('fak', 'kak'), 0),\n (('fak', 'mak'), 0),\n (('fak', 'nak'), 0),\n (('fak', 'pak'), 0),\n (('fak', 'sak'), 0),\n (('fak', 'tak'), 0),\n (('fam', 'fan'), 2),\n (('fam', 'fap'), 2),\n (('fam', 'fas'), 2),\n (('fam', 'fat'), 2),\n (('fam', 'fem'), 1),\n (('fam', 'fim'), 1),\n (('fam', 'fom'), 1),\n (('fam', 'fum'), 1),\n (('fam', 'kam'), 0),\n (('fam', 'mam'), 0),\n (('fam', 'nam'), 0),\n (('fam', 'pam'), 0),\n (('fam', 'sam'), 0),\n (('fam', 'tam'), 0),\n (('fan', 'fap'), 2),\n (('fan', 'fas'), 2),\n (('fan', 'fat'), 2),\n (('fan', 'fen'), 1),\n (('fan', 'fin'), 1),\n (('fan', 'fon'), 1),\n (('fan', 'fun'), 1),\n (('fan', 'kan'), 0),\n (('fan', 'man'), 0),\n (('fan', 'nan'), 0),\n (('fan', 'pan'), 0),\n (('fan', 'san'), 0),\n (('fan', 'tan'), 0),\n (('fap', 'fas'), 2),\n (('fap', 'fat'), 2),\n (('fap', 'fep'), 1),\n (('fap', 'fip'), 1),\n (('fap', 'fop'), 1),\n (('fap', 'fup'), 1),\n (('fap', 'kap'), 0),\n (('fap', 'map'), 0),\n (('fap', 'nap'), 0),\n (('fap', 'pap'), 0),\n (('fap', 'sap'), 0),\n (('fap', 'tap'), 0),\n (('fas', 'fat'), 2),\n (('fas', 'fes'), 1),\n (('fas', 'fis'), 1),\n (('fas', 'fos'), 1),\n (('fas', 'fus'), 1),\n (('fas', 'kas'), 0),\n (('fas', 'mas'), 0),\n (('fas', 'nas'), 0),\n (('fas', 'pas'), 0),\n (('fas', 'sas'), 0),\n (('fas', 'tas'), 0),\n (('fat', 'fet'), 1),\n (('fat', 'fit'), 1),\n (('fat', 'fot'), 1),\n (('fat', 'fut'), 1),\n (('fat', 'kat'), 0),\n (('fat', 'mat'), 0),\n (('fat', 'nat'), 0),\n (('fat', 'pat'), 0),\n (('fat', 'sat'), 0),\n (('fat', 'tat'), 0),\n (('fef', 'fek'), 2),\n (('fef', 'fem'), 2),\n (('fef', 'fen'), 2),\n (('fef', 'fep'), 2),\n (('fef', 'fes'), 2),\n (('fef', 'fet'), 2),\n (('fef', 'fif'), 1),\n (('fef', 'fof'), 1),\n (('fef', 'fuf'), 1),\n (('fef', 'kef'), 0),\n (('fef', 'mef'), 0),\n (('fef', 'nef'), 0),\n (('fef', 'pef'), 0),\n (('fef', 'sef'), 0),\n (('fef', 'tef'), 0),\n (('fek', 'fem'), 2),\n (('fek', 'fen'), 2),\n (('fek', 'fep'), 2),\n (('fek', 'fes'), 2),\n (('fek', 'fet'), 2),\n (('fek', 'fik'), 1),\n (('fek', 'fok'), 1),\n (('fek', 'fuk'), 1),\n (('fek', 'kek'), 0),\n (('fek', 'mek'), 0),\n (('fek', 'nek'), 0),\n (('fek', 'pek'), 0),\n (('fek', 'sek'), 0),\n (('fek', 'tek'), 0),\n (('fem', 'fen'), 2),\n (('fem', 'fep'), 2),\n (('fem', 'fes'), 2),\n (('fem', 'fet'), 2),\n (('fem', 'fim'), 1),\n (('fem', 'fom'), 1),\n (('fem', 'fum'), 1),\n (('fem', 'kem'), 0),\n (('fem', 'mem'), 0),\n (('fem', 'nem'), 0),\n (('fem', 'pem'), 0),\n (('fem', 'sem'), 0),\n (('fem', 'tem'), 0),\n (('fen', 'fep'), 2),\n (('fen', 'fes'), 2),\n (('fen', 'fet'), 2),\n (('fen', 'fin'), 1),\n (('fen', 'fon'), 1),\n (('fen', 'fun'), 1),\n (('fen', 'ken'), 0),\n (('fen', 'men'), 0),\n (('fen', 'nen'), 0),\n (('fen', 'pen'), 0),\n (('fen', 'sen'), 0),\n (('fen', 'ten'), 0),\n (('fep', 'fes'), 2),\n (('fep', 'fet'), 2),\n (('fep', 'fip'), 1),\n (('fep', 'fop'), 1),\n (('fep', 'fup'), 1),\n (('fep', 'kep'), 0),\n (('fep', 'mep'), 0),\n (('fep', 'nep'), 0),\n (('fep', 'pep'), 0),\n (('fep', 'sep'), 0),\n (('fep', 'tep'), 0),\n (('fes', 'fet'), 2),\n (('fes', 'fis'), 1),\n (('fes', 'fos'), 1),\n (('fes', 'fus'), 1),\n (('fes', 'kes'), 0),\n (('fes', 'mes'), 0),\n (('fes', 'nes'), 0),\n (('fes', 'pes'), 0),\n (('fes', 'ses'), 0),\n (('fes', 'tes'), 0),\n (('fet', 'fit'), 1),\n (('fet', 'fot'), 1),\n (('fet', 'fut'), 1),\n (('fet', 'ket'), 0),\n (('fet', 'met'), 0),\n (('fet', 'net'), 0),\n (('fet', 'pet'), 0),\n (('fet', 'set'), 0),\n (('fet', 'tet'), 0),\n (('fif', 'fik'), 2),\n (('fif', 'fim'), 2),\n (('fif', 'fin'), 2),\n (('fif', 'fip'), 2),\n (('fif', 'fis'), 2),\n (('fif', 'fit'), 2),\n (('fif', 'fof'), 1),\n (('fif', 'fuf'), 1),\n (('fif', 'kif'), 0),\n (('fif', 'mif'), 0),\n (('fif', 'nif'), 0),\n (('fif', 'pif'), 0),\n (('fif', 'sif'), 0),\n (('fif', 'tif'), 0),\n (('fik', 'fim'), 2),\n (('fik', 'fin'), 2),\n (('fik', 'fip'), 2),\n (('fik', 'fis'), 2),\n (('fik', 'fit'), 2),\n (('fik', 'fok'), 1),\n (('fik', 'fuk'), 1),\n (('fik', 'kik'), 0),\n (('fik', 'mik'), 0),\n (('fik', 'nik'), 0),\n (('fik', 'pik'), 0),\n (('fik', 'sik'), 0),\n (('fik', 'tik'), 0),\n (('fim', 'fin'), 2),\n (('fim', 'fip'), 2),\n (('fim', 'fis'), 2),\n (('fim', 'fit'), 2),\n (('fim', 'fom'), 1),\n (('fim', 'fum'), 1),\n (('fim', 'kim'), 0),\n (('fim', 'mim'), 0),\n (('fim', 'nim'), 0),\n (('fim', 'pim'), 0),\n (('fim', 'sim'), 0),\n (('fim', 'tim'), 0),\n (('fin', 'fip'), 2),\n (('fin', 'fis'), 2),\n (('fin', 'fit'), 2),\n (('fin', 'fon'), 1),\n (('fin', 'fun'), 1),\n (('fin', 'kin'), 0),\n (('fin', 'min'), 0),\n (('fin', 'nin'), 0),\n (('fin', 'pin'), 0),\n (('fin', 'sin'), 0),\n (('fin', 'tin'), 0),\n (('fip', 'fis'), 2),\n (('fip', 'fit'), 2),\n (('fip', 'fop'), 1),\n (('fip', 'fup'), 1),\n (('fip', 'kip'), 0),\n (('fip', 'mip'), 0),\n (('fip', 'nip'), 0),\n (('fip', 'pip'), 0),\n (('fip', 'sip'), 0),\n (('fip', 'tip'), 0),\n (('fis', 'fit'), 2),\n (('fis', 'fos'), 1),\n (('fis', 'fus'), 1),\n (('fis', 'kis'), 0),\n (('fis', 'mis'), 0),\n (('fis', 'nis'), 0),\n (('fis', 'pis'), 0),\n (('fis', 'sis'), 0),\n (('fis', 'tis'), 0),\n (('fit', 'fot'), 1),\n (('fit', 'fut'), 1),\n (('fit', 'kit'), 0),\n (('fit', 'mit'), 0),\n (('fit', 'nit'), 0),\n (('fit', 'pit'), 0),\n (('fit', 'sit'), 0),\n (('fit', 'tit'), 0),\n (('fof', 'fok'), 2),\n (('fof', 'fom'), 2),\n (('fof', 'fon'), 2),\n (('fof', 'fop'), 2),\n (('fof', 'fos'), 2),\n (('fof', 'fot'), 2),\n (('fof', 'fuf'), 1),\n (('fof', 'kof'), 0),\n (('fof', 'mof'), 0),\n (('fof', 'nof'), 0),\n (('fof', 'pof'), 0),\n (('fof', 'sof'), 0),\n (('fof', 'tof'), 0),\n (('fok', 'fom'), 2),\n (('fok', 'fon'), 2),\n (('fok', 'fop'), 2),\n (('fok', 'fos'), 2),\n (('fok', 'fot'), 2),\n (('fok', 'fuk'), 1),\n (('fok', 'kok'), 0),\n (('fok', 'mok'), 0),\n (('fok', 'nok'), 0),\n (('fok', 'pok'), 0),\n (('fok', 'sok'), 0),\n (('fok', 'tok'), 0),\n (('fom', 'fon'), 2),\n (('fom', 'fop'), 2),\n (('fom', 'fos'), 2),\n (('fom', 'fot'), 2),\n (('fom', 'fum'), 1),\n (('fom', 'kom'), 0),\n (('fom', 'mom'), 0),\n (('fom', 'nom'), 0),\n (('fom', 'pom'), 0),\n (('fom', 'som'), 0),\n (('fom', 'tom'), 0),\n (('fon', 'fop'), 2),\n (('fon', 'fos'), 2),\n (('fon', 'fot'), 2),\n (('fon', 'fun'), 1),\n (('fon', 'kon'), 0),\n (('fon', 'mon'), 0),\n (('fon', 'non'), 0),\n (('fon', 'pon'), 0),\n (('fon', 'son'), 0),\n (('fon', 'ton'), 0),\n (('fop', 'fos'), 2),\n (('fop', 'fot'), 2),\n (('fop', 'fup'), 1),\n (('fop', 'kop'), 0),\n (('fop', 'mop'), 0),\n (('fop', 'nop'), 0),\n (('fop', 'pop'), 0),\n (('fop', 'sop'), 0),\n (('fop', 'top'), 0),\n (('fos', 'fot'), 2),\n (('fos', 'fus'), 1),\n (('fos', 'kos'), 0),\n (('fos', 'mos'), 0),\n (('fos', 'nos'), 0),\n (('fos', 'pos'), 0),\n (('fos', 'sos'), 0),\n (('fos', 'tos'), 0),\n (('fot', 'fut'), 1),\n (('fot', 'kot'), 0),\n (('fot', 'mot'), 0),\n (('fot', 'not'), 0),\n (('fot', 'pot'), 0),\n (('fot', 'sot'), 0),\n (('fot', 'tot'), 0),\n (('fuf', 'fuk'), 2),\n (('fuf', 'fum'), 2),\n (('fuf', 'fun'), 2),\n (('fuf', 'fup'), 2),\n (('fuf', 'fus'), 2),\n (('fuf', 'fut'), 2),\n (('fuf', 'kuf'), 0),\n (('fuf', 'muf'), 0),\n (('fuf', 'nuf'), 0),\n (('fuf', 'puf'), 0),\n (('fuf', 'suf'), 0),\n (('fuf', 'tuf'), 0),\n (('fuk', 'fum'), 2),\n (('fuk', 'fun'), 2),\n (('fuk', 'fup'), 2),\n (('fuk', 'fus'), 2),\n (('fuk', 'fut'), 2),\n (('fuk', 'kuk'), 0),\n (('fuk', 'muk'), 0),\n (('fuk', 'nuk'), 0),\n (('fuk', 'puk'), 0),\n (('fuk', 'suk'), 0),\n (('fuk', 'tuk'), 0),\n (('fum', 'fun'), 2),\n (('fum', 'fup'), 2),\n (('fum', 'fus'), 2),\n (('fum', 'fut'), 2),\n (('fum', 'kum'), 0),\n (('fum', 'mum'), 0),\n (('fum', 'num'), 0),\n (('fum', 'pum'), 0),\n (('fum', 'sum'), 0),\n (('fum', 'tum'), 0),\n (('fun', 'fup'), 2),\n (('fun', 'fus'), 2),\n (('fun', 'fut'), 2),\n (('fun', 'kun'), 0),\n (('fun', 'mun'), 0),\n (('fun', 'nun'), 0),\n (('fun', 'pun'), 0),\n (('fun', 'sun'), 0),\n (('fun', 'tun'), 0),\n (('fup', 'fus'), 2),\n (('fup', 'fut'), 2),\n (('fup', 'kup'), 0),\n (('fup', 'mup'), 0),\n (('fup', 'nup'), 0),\n (('fup', 'pup'), 0),\n (('fup', 'sup'), 0),\n (('fup', 'tup'), 0),\n (('fus', 'fut'), 2),\n (('fus', 'kus'), 0),\n (('fus', 'mus'), 0),\n (('fus', 'nus'), 0),\n (('fus', 'pus'), 0),\n (('fus', 'sus'), 0),\n (('fus', 'tus'), 0),\n (('fut', 'kut'), 0),\n (('fut', 'mut'), 0),\n (('fut', 'nut'), 0),\n (('fut', 'put'), 0),\n (('fut', 'sut'), 0),\n (('fut', 'tut'), 0),\n (('kaf', 'kak'), 2),\n (('kaf', 'kam'), 2),\n (('kaf', 'kan'), 2),\n (('kaf', 'kap'), 2),\n (('kaf', 'kas'), 2),\n (('kaf', 'kat'), 2),\n (('kaf', 'kef'), 1),\n (('kaf', 'kif'), 1),\n (('kaf', 'kof'), 1),\n (('kaf', 'kuf'), 1),\n (('kaf', 'maf'), 0),\n (('kaf', 'naf'), 0),\n (('kaf', 'paf'), 0),\n (('kaf', 'saf'), 0),\n (('kaf', 'taf'), 0),\n (('kak', 'kam'), 2),\n (('kak', 'kan'), 2),\n (('kak', 'kap'), 2),\n (('kak', 'kas'), 2),\n (('kak', 'kat'), 2),\n (('kak', 'kek'), 1),\n (('kak', 'kik'), 1),\n (('kak', 'kok'), 1),\n (('kak', 'kuk'), 1),\n (('kak', 'mak'), 0),\n (('kak', 'nak'), 0),\n (('kak', 'pak'), 0),\n (('kak', 'sak'), 0),\n (('kak', 'tak'), 0),\n (('kam', 'kan'), 2),\n (('kam', 'kap'), 2),\n (('kam', 'kas'), 2),\n (('kam', 'kat'), 2),\n (('kam', 'kem'), 1),\n (('kam', 'kim'), 1),\n (('kam', 'kom'), 1),\n (('kam', 'kum'), 1),\n (('kam', 'mam'), 0),\n (('kam', 'nam'), 0),\n (('kam', 'pam'), 0),\n (('kam', 'sam'), 0),\n (('kam', 'tam'), 0),\n (('kan', 'kap'), 2),\n (('kan', 'kas'), 2),\n (('kan', 'kat'), 2),\n (('kan', 'ken'), 1),\n (('kan', 'kin'), 1),\n (('kan', 'kon'), 1),\n (('kan', 'kun'), 1),\n (('kan', 'man'), 0),\n (('kan', 'nan'), 0),\n (('kan', 'pan'), 0),\n (('kan', 'san'), 0),\n (('kan', 'tan'), 0),\n (('kap', 'kas'), 2),\n (('kap', 'kat'), 2),\n (('kap', 'kep'), 1),\n (('kap', 'kip'), 1),\n (('kap', 'kop'), 1),\n (('kap', 'kup'), 1),\n (('kap', 'map'), 0),\n (('kap', 'nap'), 0),\n (('kap', 'pap'), 0),\n (('kap', 'sap'), 0),\n (('kap', 'tap'), 0),\n (('kas', 'kat'), 2),\n (('kas', 'kes'), 1),\n (('kas', 'kis'), 1),\n (('kas', 'kos'), 1),\n (('kas', 'kus'), 1),\n (('kas', 'mas'), 0),\n (('kas', 'nas'), 0),\n (('kas', 'pas'), 0),\n (('kas', 'sas'), 0),\n (('kas', 'tas'), 0),\n (('kat', 'ket'), 1),\n (('kat', 'kit'), 1),\n (('kat', 'kot'), 1),\n (('kat', 'kut'), 1),\n (('kat', 'mat'), 0),\n (('kat', 'nat'), 0),\n (('kat', 'pat'), 0),\n (('kat', 'sat'), 0),\n (('kat', 'tat'), 0),\n (('kef', 'kek'), 2),\n (('kef', 'kem'), 2),\n (('kef', 'ken'), 2),\n (('kef', 'kep'), 2),\n (('kef', 'kes'), 2),\n (('kef', 'ket'), 2),\n (('kef', 'kif'), 1),\n (('kef', 'kof'), 1),\n (('kef', 'kuf'), 1),\n (('kef', 'mef'), 0),\n (('kef', 'nef'), 0),\n (('kef', 'pef'), 0),\n (('kef', 'sef'), 0),\n (('kef', 'tef'), 0),\n (('kek', 'kem'), 2),\n (('kek', 'ken'), 2),\n (('kek', 'kep'), 2),\n (('kek', 'kes'), 2),\n (('kek', 'ket'), 2),\n (('kek', 'kik'), 1),\n (('kek', 'kok'), 1),\n (('kek', 'kuk'), 1),\n (('kek', 'mek'), 0),\n (('kek', 'nek'), 0),\n (('kek', 'pek'), 0),\n (('kek', 'sek'), 0),\n (('kek', 'tek'), 0),\n (('kem', 'ken'), 2),\n (('kem', 'kep'), 2),\n (('kem', 'kes'), 2),\n (('kem', 'ket'), 2),\n (('kem', 'kim'), 1),\n (('kem', 'kom'), 1),\n (('kem', 'kum'), 1),\n (('kem', 'mem'), 0),\n (('kem', 'nem'), 0),\n (('kem', 'pem'), 0),\n (('kem', 'sem'), 0),\n (('kem', 'tem'), 0),\n (('ken', 'kep'), 2),\n (('ken', 'kes'), 2),\n (('ken', 'ket'), 2),\n (('ken', 'kin'), 1),\n (('ken', 'kon'), 1),\n (('ken', 'kun'), 1),\n (('ken', 'men'), 0),\n (('ken', 'nen'), 0),\n (('ken', 'pen'), 0),\n (('ken', 'sen'), 0),\n (('ken', 'ten'), 0),\n (('kep', 'kes'), 2),\n (('kep', 'ket'), 2),\n (('kep', 'kip'), 1),\n (('kep', 'kop'), 1),\n (('kep', 'kup'), 1),\n (('kep', 'mep'), 0),\n (('kep', 'nep'), 0),\n (('kep', 'pep'), 0),\n (('kep', 'sep'), 0),\n (('kep', 'tep'), 0),\n (('kes', 'ket'), 2),\n (('kes', 'kis'), 1),\n (('kes', 'kos'), 1),\n (('kes', 'kus'), 1),\n (('kes', 'mes'), 0),\n (('kes', 'nes'), 0),\n (('kes', 'pes'), 0),\n (('kes', 'ses'), 0),\n (('kes', 'tes'), 0),\n (('ket', 'kit'), 1),\n (('ket', 'kot'), 1),\n (('ket', 'kut'), 1),\n (('ket', 'met'), 0),\n (('ket', 'net'), 0),\n (('ket', 'pet'), 0),\n (('ket', 'set'), 0),\n (('ket', 'tet'), 0),\n (('kif', 'kik'), 2),\n (('kif', 'kim'), 2),\n (('kif', 'kin'), 2),\n (('kif', 'kip'), 2),\n (('kif', 'kis'), 2),\n (('kif', 'kit'), 2),\n (('kif', 'kof'), 1),\n (('kif', 'kuf'), 1),\n (('kif', 'mif'), 0),\n (('kif', 'nif'), 0),\n (('kif', 'pif'), 0),\n (('kif', 'sif'), 0),\n (('kif', 'tif'), 0),\n (('kik', 'kim'), 2),\n (('kik', 'kin'), 2),\n (('kik', 'kip'), 2),\n (('kik', 'kis'), 2),\n (('kik', 'kit'), 2),\n (('kik', 'kok'), 1),\n (('kik', 'kuk'), 1),\n (('kik', 'mik'), 0),\n (('kik', 'nik'), 0),\n (('kik', 'pik'), 0),\n (('kik', 'sik'), 0),\n (('kik', 'tik'), 0),\n (('kim', 'kin'), 2),\n (('kim', 'kip'), 2),\n (('kim', 'kis'), 2),\n (('kim', 'kit'), 2),\n (('kim', 'kom'), 1),\n (('kim', 'kum'), 1),\n (('kim', 'mim'), 0),\n (('kim', 'nim'), 0),\n (('kim', 'pim'), 0),\n (('kim', 'sim'), 0),\n (('kim', 'tim'), 0),\n (('kin', 'kip'), 2),\n (('kin', 'kis'), 2),\n (('kin', 'kit'), 2),\n (('kin', 'kon'), 1),\n (('kin', 'kun'), 1),\n (('kin', 'min'), 0),\n (('kin', 'nin'), 0),\n (('kin', 'pin'), 0),\n (('kin', 'sin'), 0),\n (('kin', 'tin'), 0),\n (('kip', 'kis'), 2),\n (('kip', 'kit'), 2),\n (('kip', 'kop'), 1),\n (('kip', 'kup'), 1),\n (('kip', 'mip'), 0),\n (('kip', 'nip'), 0),\n (('kip', 'pip'), 0),\n (('kip', 'sip'), 0),\n (('kip', 'tip'), 0),\n (('kis', 'kit'), 2),\n (('kis', 'kos'), 1),\n (('kis', 'kus'), 1),\n (('kis', 'mis'), 0),\n (('kis', 'nis'), 0),\n (('kis', 'pis'), 0),\n (('kis', 'sis'), 0),\n (('kis', 'tis'), 0),\n (('kit', 'kot'), 1),\n (('kit', 'kut'), 1),\n (('kit', 'mit'), 0),\n (('kit', 'nit'), 0),\n (('kit', 'pit'), 0),\n (('kit', 'sit'), 0),\n (('kit', 'tit'), 0),\n (('kof', 'kok'), 2),\n (('kof', 'kom'), 2),\n (('kof', 'kon'), 2),\n (('kof', 'kop'), 2),\n (('kof', 'kos'), 2),\n (('kof', 'kot'), 2),\n (('kof', 'kuf'), 1),\n (('kof', 'mof'), 0),\n (('kof', 'nof'), 0),\n (('kof', 'pof'), 0),\n (('kof', 'sof'), 0),\n (('kof', 'tof'), 0),\n (('kok', 'kom'), 2),\n (('kok', 'kon'), 2),\n (('kok', 'kop'), 2),\n (('kok', 'kos'), 2),\n (('kok', 'kot'), 2),\n (('kok', 'kuk'), 1),\n (('kok', 'mok'), 0),\n (('kok', 'nok'), 0),\n (('kok', 'pok'), 0),\n (('kok', 'sok'), 0),\n (('kok', 'tok'), 0),\n (('kom', 'kon'), 2),\n (('kom', 'kop'), 2),\n (('kom', 'kos'), 2),\n (('kom', 'kot'), 2),\n (('kom', 'kum'), 1),\n (('kom', 'mom'), 0),\n (('kom', 'nom'), 0),\n (('kom', 'pom'), 0),\n (('kom', 'som'), 0),\n (('kom', 'tom'), 0),\n (('kon', 'kop'), 2),\n (('kon', 'kos'), 2),\n (('kon', 'kot'), 2),\n (('kon', 'kun'), 1),\n (('kon', 'mon'), 0),\n (('kon', 'non'), 0),\n (('kon', 'pon'), 0),\n (('kon', 'son'), 0),\n (('kon', 'ton'), 0),\n (('kop', 'kos'), 2),\n (('kop', 'kot'), 2),\n (('kop', 'kup'), 1),\n (('kop', 'mop'), 0),\n (('kop', 'nop'), 0),\n (('kop', 'pop'), 0),\n (('kop', 'sop'), 0),\n (('kop', 'top'), 0),\n (('kos', 'kot'), 2),\n (('kos', 'kus'), 1),\n (('kos', 'mos'), 0),\n (('kos', 'nos'), 0),\n (('kos', 'pos'), 0),\n (('kos', 'sos'), 0),\n (('kos', 'tos'), 0),\n (('kot', 'kut'), 1),\n (('kot', 'mot'), 0),\n (('kot', 'not'), 0),\n (('kot', 'pot'), 0),\n (('kot', 'sot'), 0),\n (('kot', 'tot'), 0),\n (('kuf', 'kuk'), 2),\n (('kuf', 'kum'), 2),\n (('kuf', 'kun'), 2),\n (('kuf', 'kup'), 2),\n (('kuf', 'kus'), 2),\n (('kuf', 'kut'), 2),\n (('kuf', 'muf'), 0),\n (('kuf', 'nuf'), 0),\n (('kuf', 'puf'), 0),\n (('kuf', 'suf'), 0),\n (('kuf', 'tuf'), 0),\n (('kuk', 'kum'), 2),\n (('kuk', 'kun'), 2),\n (('kuk', 'kup'), 2),\n (('kuk', 'kus'), 2),\n (('kuk', 'kut'), 2),\n (('kuk', 'muk'), 0),\n (('kuk', 'nuk'), 0),\n (('kuk', 'puk'), 0),\n (('kuk', 'suk'), 0),\n (('kuk', 'tuk'), 0),\n (('kum', 'kun'), 2),\n (('kum', 'kup'), 2),\n (('kum', 'kus'), 2),\n (('kum', 'kut'), 2),\n (('kum', 'mum'), 0),\n (('kum', 'num'), 0),\n (('kum', 'pum'), 0),\n (('kum', 'sum'), 0),\n (('kum', 'tum'), 0),\n (('kun', 'kup'), 2),\n (('kun', 'kus'), 2),\n (('kun', 'kut'), 2),\n (('kun', 'mun'), 0),\n (('kun', 'nun'), 0),\n (('kun', 'pun'), 0),\n (('kun', 'sun'), 0),\n (('kun', 'tun'), 0),\n (('kup', 'kus'), 2),\n (('kup', 'kut'), 2),\n (('kup', 'mup'), 0),\n (('kup', 'nup'), 0),\n (('kup', 'pup'), 0),\n (('kup', 'sup'), 0),\n (('kup', 'tup'), 0),\n (('kus', 'kut'), 2),\n (('kus', 'mus'), 0),\n (('kus', 'nus'), 0),\n (('kus', 'pus'), 0),\n (('kus', 'sus'), 0),\n (('kus', 'tus'), 0),\n (('kut', 'mut'), 0),\n (('kut', 'nut'), 0),\n (('kut', 'put'), 0),\n (('kut', 'sut'), 0),\n (('kut', 'tut'), 0),\n (('maf', 'mak'), 2),\n (('maf', 'mam'), 2),\n (('maf', 'man'), 2),\n (('maf', 'map'), 2),\n (('maf', 'mas'), 2),\n (('maf', 'mat'), 2),\n (('maf', 'mef'), 1),\n (('maf', 'mif'), 1),\n (('maf', 'mof'), 1),\n (('maf', 'muf'), 1),\n (('maf', 'naf'), 0),\n (('maf', 'paf'), 0),\n (('maf', 'saf'), 0),\n (('maf', 'taf'), 0),\n (('mak', 'mam'), 2),\n (('mak', 'man'), 2),\n (('mak', 'map'), 2),\n (('mak', 'mas'), 2),\n (('mak', 'mat'), 2),\n (('mak', 'mek'), 1),\n (('mak', 'mik'), 1),\n (('mak', 'mok'), 1),\n (('mak', 'muk'), 1),\n (('mak', 'nak'), 0),\n (('mak', 'pak'), 0),\n (('mak', 'sak'), 0),\n (('mak', 'tak'), 0),\n (('mam', 'man'), 2),\n (('mam', 'map'), 2),\n (('mam', 'mas'), 2),\n (('mam', 'mat'), 2),\n (('mam', 'mem'), 1),\n (('mam', 'mim'), 1),\n (('mam', 'mom'), 1),\n (('mam', 'mum'), 1),\n (('mam', 'nam'), 0),\n (('mam', 'pam'), 0),\n (('mam', 'sam'), 0),\n (('mam', 'tam'), 0),\n (('man', 'map'), 2),\n (('man', 'mas'), 2),\n (('man', 'mat'), 2),\n (('man', 'men'), 1),\n (('man', 'min'), 1),\n (('man', 'mon'), 1),\n (('man', 'mun'), 1),\n (('man', 'nan'), 0),\n (('man', 'pan'), 0),\n (('man', 'san'), 0),\n (('man', 'tan'), 0),\n (('map', 'mas'), 2),\n (('map', 'mat'), 2),\n (('map', 'mep'), 1),\n (('map', 'mip'), 1),\n (('map', 'mop'), 1),\n (('map', 'mup'), 1),\n (('map', 'nap'), 0),\n (('map', 'pap'), 0),\n (('map', 'sap'), 0),\n (('map', 'tap'), 0),\n (('mas', 'mat'), 2),\n (('mas', 'mes'), 1),\n (('mas', 'mis'), 1),\n (('mas', 'mos'), 1),\n (('mas', 'mus'), 1),\n (('mas', 'nas'), 0),\n (('mas', 'pas'), 0),\n (('mas', 'sas'), 0),\n (('mas', 'tas'), 0),\n (('mat', 'met'), 1),\n (('mat', 'mit'), 1),\n (('mat', 'mot'), 1),\n (('mat', 'mut'), 1),\n (('mat', 'nat'), 0),\n (('mat', 'pat'), 0),\n (('mat', 'sat'), 0),\n (('mat', 'tat'), 0),\n (('mef', 'mek'), 2),\n (('mef', 'mem'), 2),\n (('mef', 'men'), 2),\n (('mef', 'mep'), 2),\n (('mef', 'mes'), 2),\n (('mef', 'met'), 2),\n (('mef', 'mif'), 1),\n (('mef', 'mof'), 1),\n (('mef', 'muf'), 1),\n (('mef', 'nef'), 0),\n (('mef', 'pef'), 0),\n (('mef', 'sef'), 0),\n (('mef', 'tef'), 0),\n (('mek', 'mem'), 2),\n (('mek', 'men'), 2),\n (('mek', 'mep'), 2),\n (('mek', 'mes'), 2),\n (('mek', 'met'), 2),\n (('mek', 'mik'), 1),\n (('mek', 'mok'), 1),\n (('mek', 'muk'), 1),\n (('mek', 'nek'), 0),\n (('mek', 'pek'), 0),\n (('mek', 'sek'), 0),\n (('mek', 'tek'), 0),\n (('mem', 'men'), 2),\n (('mem', 'mep'), 2),\n (('mem', 'mes'), 2),\n (('mem', 'met'), 2),\n (('mem', 'mim'), 1),\n (('mem', 'mom'), 1),\n (('mem', 'mum'), 1),\n (('mem', 'nem'), 0),\n (('mem', 'pem'), 0),\n (('mem', 'sem'), 0),\n (('mem', 'tem'), 0),\n (('men', 'mep'), 2),\n (('men', 'mes'), 2),\n (('men', 'met'), 2),\n (('men', 'min'), 1),\n (('men', 'mon'), 1),\n (('men', 'mun'), 1),\n (('men', 'nen'), 0),\n (('men', 'pen'), 0),\n (('men', 'sen'), 0),\n (('men', 'ten'), 0),\n (('mep', 'mes'), 2),\n (('mep', 'met'), 2),\n (('mep', 'mip'), 1),\n (('mep', 'mop'), 1),\n (('mep', 'mup'), 1),\n (('mep', 'nep'), 0),\n (('mep', 'pep'), 0),\n (('mep', 'sep'), 0),\n (('mep', 'tep'), 0),\n (('mes', 'met'), 2),\n (('mes', 'mis'), 1),\n (('mes', 'mos'), 1),\n (('mes', 'mus'), 1),\n (('mes', 'nes'), 0),\n (('mes', 'pes'), 0),\n (('mes', 'ses'), 0),\n (('mes', 'tes'), 0),\n (('met', 'mit'), 1),\n (('met', 'mot'), 1),\n (('met', 'mut'), 1),\n (('met', 'net'), 0),\n (('met', 'pet'), 0),\n (('met', 'set'), 0),\n (('met', 'tet'), 0),\n (('mif', 'mik'), 2),\n (('mif', 'mim'), 2),\n (('mif', 'min'), 2),\n (('mif', 'mip'), 2),\n (('mif', 'mis'), 2),\n (('mif', 'mit'), 2),\n (('mif', 'mof'), 1),\n (('mif', 'muf'), 1),\n (('mif', 'nif'), 0),\n (('mif', 'pif'), 0),\n (('mif', 'sif'), 0),\n (('mif', 'tif'), 0),\n (('mik', 'mim'), 2),\n (('mik', 'min'), 2),\n (('mik', 'mip'), 2),\n (('mik', 'mis'), 2),\n (('mik', 'mit'), 2),\n (('mik', 'mok'), 1),\n (('mik', 'muk'), 1),\n (('mik', 'nik'), 0),\n (('mik', 'pik'), 0),\n (('mik', 'sik'), 0),\n (('mik', 'tik'), 0),\n (('mim', 'min'), 2),\n (('mim', 'mip'), 2),\n (('mim', 'mis'), 2),\n (('mim', 'mit'), 2),\n (('mim', 'mom'), 1),\n (('mim', 'mum'), 1),\n (('mim', 'nim'), 0),\n (('mim', 'pim'), 0),\n (('mim', 'sim'), 0),\n (('mim', 'tim'), 0),\n (('min', 'mip'), 2),\n (('min', 'mis'), 2),\n (('min', 'mit'), 2),\n (('min', 'mon'), 1),\n (('min', 'mun'), 1),\n (('min', 'nin'), 0),\n (('min', 'pin'), 0),\n (('min', 'sin'), 0),\n (('min', 'tin'), 0),\n (('mip', 'mis'), 2),\n (('mip', 'mit'), 2),\n (('mip', 'mop'), 1),\n (('mip', 'mup'), 1),\n (('mip', 'nip'), 0),\n (('mip', 'pip'), 0),\n (('mip', 'sip'), 0),\n (('mip', 'tip'), 0),\n (('mis', 'mit'), 2),\n (('mis', 'mos'), 1),\n (('mis', 'mus'), 1),\n (('mis', 'nis'), 0),\n (('mis', 'pis'), 0),\n (('mis', 'sis'), 0),\n (('mis', 'tis'), 0),\n (('mit', 'mot'), 1),\n (('mit', 'mut'), 1),\n (('mit', 'nit'), 0),\n (('mit', 'pit'), 0),\n (('mit', 'sit'), 0),\n (('mit', 'tit'), 0),\n (('mof', 'mok'), 2),\n (('mof', 'mom'), 2),\n (('mof', 'mon'), 2),\n (('mof', 'mop'), 2),\n (('mof', 'mos'), 2),\n (('mof', 'mot'), 2),\n (('mof', 'muf'), 1),\n (('mof', 'nof'), 0),\n (('mof', 'pof'), 0),\n (('mof', 'sof'), 0),\n (('mof', 'tof'), 0),\n (('mok', 'mom'), 2),\n (('mok', 'mon'), 2),\n (('mok', 'mop'), 2),\n (('mok', 'mos'), 2),\n (('mok', 'mot'), 2),\n (('mok', 'muk'), 1),\n (('mok', 'nok'), 0),\n (('mok', 'pok'), 0),\n (('mok', 'sok'), 0),\n (('mok', 'tok'), 0),\n (('mom', 'mon'), 2),\n (('mom', 'mop'), 2),\n (('mom', 'mos'), 2),\n (('mom', 'mot'), 2),\n (('mom', 'mum'), 1),\n (('mom', 'nom'), 0),\n (('mom', 'pom'), 0),\n (('mom', 'som'), 0),\n (('mom', 'tom'), 0),\n (('mon', 'mop'), 2),\n (('mon', 'mos'), 2),\n (('mon', 'mot'), 2),\n (('mon', 'mun'), 1),\n (('mon', 'non'), 0),\n (('mon', 'pon'), 0),\n (('mon', 'son'), 0),\n (('mon', 'ton'), 0),\n (('mop', 'mos'), 2),\n (('mop', 'mot'), 2),\n (('mop', 'mup'), 1),\n (('mop', 'nop'), 0),\n (('mop', 'pop'), 0),\n (('mop', 'sop'), 0),\n (('mop', 'top'), 0),\n (('mos', 'mot'), 2),\n (('mos', 'mus'), 1),\n (('mos', 'nos'), 0),\n (('mos', 'pos'), 0),\n (('mos', 'sos'), 0),\n (('mos', 'tos'), 0),\n (('mot', 'mut'), 1),\n (('mot', 'not'), 0),\n (('mot', 'pot'), 0),\n (('mot', 'sot'), 0),\n ...]"
     },
     "execution_count": 54,
     "metadata": {},
     "output_type": "execute_result"
    }
   ],
   "source": [
    "minimal_pairs\n"
   ],
   "metadata": {
    "collapsed": false
   }
  },
  {
   "cell_type": "code",
   "execution_count": null,
   "outputs": [],
   "source": [],
   "metadata": {
    "collapsed": false
   }
  }
 ],
 "metadata": {
  "kernelspec": {
   "display_name": "Python 3",
   "language": "python",
   "name": "python3"
  },
  "language_info": {
   "codemirror_mode": {
    "name": "ipython",
    "version": 2
   },
   "file_extension": ".py",
   "mimetype": "text/x-python",
   "name": "python",
   "nbconvert_exporter": "python",
   "pygments_lexer": "ipython2",
   "version": "2.7.6"
  }
 },
 "nbformat": 4,
 "nbformat_minor": 0
}
